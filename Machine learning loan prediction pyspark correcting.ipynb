{
 "cells": [
  {
   "cell_type": "markdown",
   "metadata": {},
   "source": [
    "## Installing PySpark"
   ]
  },
  {
   "cell_type": "code",
   "execution_count": 1,
   "metadata": {},
   "outputs": [],
   "source": [
    "# install java\n",
    "# install apache spark with hadoop\n",
    "# set environment variables\n",
    "# !pip install pyspark"
   ]
  },
  {
   "cell_type": "markdown",
   "metadata": {},
   "source": [
    "## Import Modules"
   ]
  },
  {
   "cell_type": "code",
   "execution_count": 2,
   "metadata": {},
   "outputs": [
    {
     "name": "stdout",
     "output_type": "stream",
     "text": [
      "Current Working Directory: C:\\Users\\nzen4\n"
     ]
    }
   ],
   "source": [
    "import pyspark\n",
    "from pyspark.sql import SparkSession\n",
    "import pyspark.sql.functions as F\n",
    "import os\n",
    "\n",
    "import pandas as pd\n",
    "import warnings\n",
    "warnings.filterwarnings('ignore')\n",
    "print(\"Current Working Directory:\", os.getcwd())"
   ]
  },
  {
   "cell_type": "code",
   "execution_count": 3,
   "metadata": {},
   "outputs": [],
   "source": [
    "# initialize the session\n",
    "spark = SparkSession.builder.appName('loan_prediction').getOrCreate()"
   ]
  },
  {
   "cell_type": "markdown",
   "metadata": {},
   "source": [
    "## Load the Dataset"
   ]
  },
  {
   "cell_type": "code",
   "execution_count": 4,
   "metadata": {
    "scrolled": false
   },
   "outputs": [
    {
     "name": "stdout",
     "output_type": "stream",
     "text": [
      "+-----------+---------------+----+-------------------+-----------+-----+-------------------+------------------+-----------------+--------------+-------------+--------------+---------------------------+-------------------+---------------------+-------------+-----------------------+------------+\n",
      "|loan_number|amount_borrowed|term|      borrower_rate|installment|grade|   origination_date|     listing_title|principal_balance|principal_paid|interest_paid|late_fees_paid|debt_sale_proceeds_received|  last_payment_date|next_payment_due_date|days_past_due|loan_status_description| data_source|\n",
      "+-----------+---------------+----+-------------------+-----------+-----+-------------------+------------------+-----------------+--------------+-------------+--------------+---------------------------+-------------------+---------------------+-------------+-----------------------+------------+\n",
      "|   10149342|        27050.0|  36|             0.1099|     885.46|    B|2013-12-01 00:00:00|debt_consolidation|              0.0|       27050.0|      4702.53|           0.0|                        0.0|2016-07-01 00:00:00|  2016-08-01 00:00:00|            0|              COMPLETED|Lending Club|\n",
      "|   10149488|         4800.0|  36|             0.1099|     157.13|    B|2013-12-01 00:00:00|  home_improvement|              0.0|        4800.0|       357.52|           0.0|                        0.0|2014-09-01 00:00:00|  2014-10-01 00:00:00|            0|              COMPLETED|Lending Club|\n",
      "|   10148122|        12000.0|  36|             0.0762|     373.94|    A|2013-12-01 00:00:00|debt_consolidation|              0.0|       12000.0|      1397.54|           0.0|                        0.0|2016-06-01 00:00:00|  2016-07-01 00:00:00|            0|              COMPLETED|Lending Club|\n",
      "|   10119623|        12000.0|  36|             0.1199|     398.52|    B|2013-12-01 00:00:00|debt_consolidation|              0.0|       12000.0|      2346.48|           0.0|                        0.0|2017-01-01 00:00:00|  2017-02-01 00:00:00|            0|              COMPLETED|Lending Club|\n",
      "|   10159498|        12000.0|  36|             0.0662|     368.45|    A|2013-12-01 00:00:00|debt_consolidation|              0.0|       12000.0|      1263.95|           0.0|                        0.0|2017-01-01 00:00:00|  2017-02-01 00:00:00|            0|              COMPLETED|Lending Club|\n",
      "|   10119590|        11500.0|  60|0.22899999999999998|     323.54|    E|2013-12-01 00:00:00|debt_consolidation|              0.0|       11500.0|      7286.25|           0.0|                        0.0|2017-09-01 00:00:00|  2017-10-01 00:00:00|            0|              COMPLETED|Lending Club|\n",
      "|   10159548|        15000.0|  36|0.08900000000000001|      476.3|    A|2013-12-01 00:00:00|debt_consolidation|              0.0|       15000.0|      2146.73|           0.0|                        0.0|2017-01-01 00:00:00|  2017-02-01 00:00:00|            0|              COMPLETED|Lending Club|\n",
      "|   10127816|        24000.0|  36|             0.1353|      814.8|    B|2013-12-01 00:00:00|       credit_card|              0.0|       24000.0|      4652.21|           0.0|                        0.0|2015-12-01 00:00:00|  2016-01-01 00:00:00|            0|              COMPLETED|Lending Club|\n",
      "|   10139658|        12000.0|  36|             0.1353|      407.4|    B|2013-12-01 00:00:00|debt_consolidation|              0.0|       12000.0|      1359.78|           0.0|                        0.0|2015-09-01 00:00:00|  2015-10-01 00:00:00|            0|              COMPLETED|Lending Club|\n",
      "|   10129477|        14000.0|  36|             0.1285|     470.71|    B|2013-12-01 00:00:00|debt_consolidation|              0.0|       14000.0|      2945.32|           0.0|                        0.0|2017-01-01 00:00:00|  2017-02-01 00:00:00|            0|              COMPLETED|Lending Club|\n",
      "|   10129506|        20800.0|  36|             0.1353|     706.16|    B|2013-12-01 00:00:00|debt_consolidation|              0.0|       20800.0|      3126.64|           0.0|                        0.0|2015-05-01 00:00:00|  2015-06-01 00:00:00|            0|              COMPLETED|Lending Club|\n",
      "|   10159611|        10000.0|  36|             0.0967|     321.13|    B|2013-12-01 00:00:00|debt_consolidation|              0.0|       10000.0|      1560.46|           0.0|                        0.0|2017-01-01 00:00:00|  2017-02-01 00:00:00|            0|              COMPLETED|Lending Club|\n",
      "|   10224583|        11100.0|  36|0.14980000000000002|     384.68|    C|2013-12-01 00:00:00|             other|              0.0|       11100.0|      2475.64|           0.0|                        0.0|2016-02-01 00:00:00|  2016-03-01 00:00:00|            0|              COMPLETED|Lending Club|\n",
      "|   10129454|        12000.0|  36|             0.1099|     392.81|    B|2013-12-01 00:00:00|debt_consolidation|              0.0|       12000.0|      1988.61|           0.0|                        0.0|2016-04-01 00:00:00|  2016-05-01 00:00:00|            0|              COMPLETED|Lending Club|\n",
      "|   10179520|         3000.0|  36|             0.1285|     100.87|    B|2013-12-01 00:00:00|debt_consolidation|              0.0|        3000.0|       181.55|           0.0|                        0.0|2014-07-01 00:00:00|  2014-08-01 00:00:00|            0|              COMPLETED|Lending Club|\n",
      "|   10129403|         7550.0|  36|             0.1624|     266.34|    C|2013-12-01 00:00:00|debt_consolidation|              0.0|        7550.0|      2050.45|           0.0|                        0.0|2016-12-01 00:00:00|  2017-01-01 00:00:00|            0|              COMPLETED|Lending Club|\n",
      "|   10149577|        28000.0|  36|             0.0762|     872.52|    A|2013-12-01 00:00:00|debt_consolidation|              0.0|       28000.0|      1150.98|           0.0|                        0.0|2014-08-01 00:00:00|  2014-09-01 00:00:00|            0|              COMPLETED|Lending Club|\n",
      "|   10149526|        27600.0|  60|             0.1997|     730.78|    D|2013-12-01 00:00:00|debt_consolidation|              0.0|      14738.17|     13762.25|           0.0|                    1802.67|2017-04-01 00:00:00|  2017-05-01 00:00:00|          486|              CHARGEOFF|Lending Club|\n",
      "|   10149566|         8000.0|  36|             0.1099|     261.88|    B|2013-12-01 00:00:00|debt_consolidation|              0.0|       3854.81|      1120.22|          15.0|                     632.47|2015-10-01 00:00:00|  2015-11-01 00:00:00|         1033|              CHARGEOFF|Lending Club|\n",
      "|   10148818|        15000.0|  36|             0.1447|      516.1|    C|2013-12-01 00:00:00|debt_consolidation|              0.0|       15000.0|       699.05|           0.0|                        0.0|2014-05-01 00:00:00|  2014-06-01 00:00:00|            0|              COMPLETED|Lending Club|\n",
      "+-----------+---------------+----+-------------------+-----------+-----+-------------------+------------------+-----------------+--------------+-------------+--------------+---------------------------+-------------------+---------------------+-------------+-----------------------+------------+\n",
      "only showing top 20 rows\n",
      "\n"
     ]
    }
   ],
   "source": [
    "df = spark.read.csv('lending_dataset.csv', header=True, sep=',', inferSchema=True)\n",
    "df.show()"
   ]
  },
  {
   "cell_type": "code",
   "execution_count": 5,
   "metadata": {},
   "outputs": [
    {
     "name": "stdout",
     "output_type": "stream",
     "text": [
      "['loan_number', 'amount_borrowed', 'term', 'borrower_rate', 'installment', 'grade', 'origination_date', 'listing_title', 'principal_balance', 'principal_paid', 'interest_paid', 'late_fees_paid', 'debt_sale_proceeds_received', 'last_payment_date', 'next_payment_due_date', 'days_past_due', 'loan_status_description', 'data_source']\n"
     ]
    }
   ],
   "source": [
    "# scan column\n",
    "print(df.columns)"
   ]
  },
  {
   "cell_type": "code",
   "execution_count": 6,
   "metadata": {
    "scrolled": false
   },
   "outputs": [
    {
     "name": "stdout",
     "output_type": "stream",
     "text": [
      "+-----------+---------------+-----------+-----+------------------+-----------------------+------------+\n",
      "|loan_number|amount_borrowed|installment|grade|     listing_title|loan_status_description| data_source|\n",
      "+-----------+---------------+-----------+-----+------------------+-----------------------+------------+\n",
      "|   10149342|        27050.0|     885.46|    B|debt_consolidation|              COMPLETED|Lending Club|\n",
      "|   10149488|         4800.0|     157.13|    B|  home_improvement|              COMPLETED|Lending Club|\n",
      "|   10148122|        12000.0|     373.94|    A|debt_consolidation|              COMPLETED|Lending Club|\n",
      "|   10119623|        12000.0|     398.52|    B|debt_consolidation|              COMPLETED|Lending Club|\n",
      "|   10159498|        12000.0|     368.45|    A|debt_consolidation|              COMPLETED|Lending Club|\n",
      "|   10119590|        11500.0|     323.54|    E|debt_consolidation|              COMPLETED|Lending Club|\n",
      "|   10159548|        15000.0|      476.3|    A|debt_consolidation|              COMPLETED|Lending Club|\n",
      "|   10127816|        24000.0|      814.8|    B|       credit_card|              COMPLETED|Lending Club|\n",
      "|   10139658|        12000.0|      407.4|    B|debt_consolidation|              COMPLETED|Lending Club|\n",
      "|   10129477|        14000.0|     470.71|    B|debt_consolidation|              COMPLETED|Lending Club|\n",
      "|   10129506|        20800.0|     706.16|    B|debt_consolidation|              COMPLETED|Lending Club|\n",
      "|   10159611|        10000.0|     321.13|    B|debt_consolidation|              COMPLETED|Lending Club|\n",
      "|   10224583|        11100.0|     384.68|    C|             other|              COMPLETED|Lending Club|\n",
      "|   10129454|        12000.0|     392.81|    B|debt_consolidation|              COMPLETED|Lending Club|\n",
      "|   10179520|         3000.0|     100.87|    B|debt_consolidation|              COMPLETED|Lending Club|\n",
      "|   10129403|         7550.0|     266.34|    C|debt_consolidation|              COMPLETED|Lending Club|\n",
      "|   10149577|        28000.0|     872.52|    A|debt_consolidation|              COMPLETED|Lending Club|\n",
      "|   10149526|        27600.0|     730.78|    D|debt_consolidation|              CHARGEOFF|Lending Club|\n",
      "|   10149566|         8000.0|     261.88|    B|debt_consolidation|              CHARGEOFF|Lending Club|\n",
      "|   10148818|        15000.0|      516.1|    C|debt_consolidation|              COMPLETED|Lending Club|\n",
      "+-----------+---------------+-----------+-----+------------------+-----------------------+------------+\n",
      "only showing top 20 rows\n",
      "\n"
     ]
    }
   ],
   "source": [
    "\n",
    "df_filtered = df.select('loan_number','amount_borrowed','installment','grade','listing_title','loan_status_description','data_source').show()"
   ]
  },
  {
   "cell_type": "code",
   "execution_count": 7,
   "metadata": {
    "scrolled": true
   },
   "outputs": [
    {
     "name": "stdout",
     "output_type": "stream",
     "text": [
      "+------------+-------+\n",
      "| data_source|  count|\n",
      "+------------+-------+\n",
      "|Lending Club|1961527|\n",
      "|     Prosper| 913619|\n",
      "+------------+-------+\n",
      "\n"
     ]
    }
   ],
   "source": [
    "df.groupBy('data_source').count().show()"
   ]
  },
  {
   "cell_type": "code",
   "execution_count": 8,
   "metadata": {},
   "outputs": [
    {
     "name": "stdout",
     "output_type": "stream",
     "text": [
      "Total rows in dataset: 2,875,146 rows\n"
     ]
    }
   ],
   "source": [
    "total_rows = df.count()\n",
    "formatted_total_rows = \"{:,}\".format(total_rows)  # Format angka dengan tanda koma\n",
    "print('Total rows in dataset:', formatted_total_rows, 'rows')\n"
   ]
  },
  {
   "cell_type": "code",
   "execution_count": 9,
   "metadata": {},
   "outputs": [
    {
     "name": "stdout",
     "output_type": "stream",
     "text": [
      "['loan_number', 'amount_borrowed', 'term', 'borrower_rate', 'installment', 'grade', 'origination_date', 'listing_title', 'principal_balance', 'principal_paid', 'interest_paid', 'late_fees_paid', 'debt_sale_proceeds_received', 'last_payment_date', 'next_payment_due_date', 'days_past_due', 'loan_status_description', 'data_source']\n"
     ]
    }
   ],
   "source": [
    "print(df.columns)"
   ]
  },
  {
   "cell_type": "code",
   "execution_count": 10,
   "metadata": {},
   "outputs": [
    {
     "name": "stdout",
     "output_type": "stream",
     "text": [
      "+-----------+\n",
      "|Loan_Status|\n",
      "+-----------+\n",
      "|  COMPLETED|\n",
      "|  COMPLETED|\n",
      "|  COMPLETED|\n",
      "|  COMPLETED|\n",
      "|  COMPLETED|\n",
      "|  COMPLETED|\n",
      "|  COMPLETED|\n",
      "|  COMPLETED|\n",
      "|  COMPLETED|\n",
      "|  COMPLETED|\n",
      "|  COMPLETED|\n",
      "|  COMPLETED|\n",
      "|  COMPLETED|\n",
      "|  COMPLETED|\n",
      "|  COMPLETED|\n",
      "|  COMPLETED|\n",
      "|  COMPLETED|\n",
      "|  CHARGEOFF|\n",
      "|  CHARGEOFF|\n",
      "|  COMPLETED|\n",
      "+-----------+\n",
      "only showing top 20 rows\n",
      "\n"
     ]
    }
   ],
   "source": [
    "#Renaming column\n",
    "df = df.withColumnRenamed(\"loan_status_description\", \"Loan_Status\")\n",
    "df.select('Loan_Status').show()"
   ]
  },
  {
   "cell_type": "code",
   "execution_count": 11,
   "metadata": {
    "scrolled": true
   },
   "outputs": [
    {
     "name": "stdout",
     "output_type": "stream",
     "text": [
      "+-----------+-------+\n",
      "|Loan_Status|  count|\n",
      "+-----------+-------+\n",
      "|  CHARGEOFF| 222867|\n",
      "|  DEFAULTED|  95344|\n",
      "|  COMPLETED|1173162|\n",
      "|    CURRENT|1381520|\n",
      "|  CANCELLED|   2253|\n",
      "+-----------+-------+\n",
      "\n"
     ]
    }
   ],
   "source": [
    "df.groupBy('Loan_Status').count().show()"
   ]
  },
  {
   "cell_type": "code",
   "execution_count": 74,
   "metadata": {
    "scrolled": false
   },
   "outputs": [
    {
     "name": "stdout",
     "output_type": "stream",
     "text": [
      "+------------------+-------+\n",
      "|     listing_title|  count|\n",
      "+------------------+-------+\n",
      "|           wedding|   1850|\n",
      "|             other| 124427|\n",
      "|    small_business|  22834|\n",
      "|debt_consolidation|1154304|\n",
      "|       credit_card| 441191|\n",
      "|            moving|  13336|\n",
      "|          vacation|  13992|\n",
      "|  renewable_energy|   1259|\n",
      "|             house|  12099|\n",
      "|               car|  21261|\n",
      "|    major_purchase|  44442|\n",
      "|           medical|  24808|\n",
      "|  home_improvement| 136263|\n",
      "|       educational|      2|\n",
      "+------------------+-------+\n",
      "\n"
     ]
    }
   ],
   "source": [
    "import matplotlib.pyplot as plt\n",
    "\n",
    "# Assuming you have a SparkSession named 'spark' and a DataFrame named 'df'\n",
    "# Also, assuming 'listing_title' is the correct column name (you had a typo in 'listing_tittle')\n",
    "df.groupBy('listing_title').count().show()"
   ]
  },
  {
   "cell_type": "code",
   "execution_count": 78,
   "metadata": {
    "scrolled": false
   },
   "outputs": [
    {
     "data": {
      "image/png": "[encoded data removed]",
      "text/plain": [
       "<Figure size 640x480 with 1 Axes>"
      ]
     },
     "metadata": {},
     "output_type": "display_data"
    }
   ],
   "source": [
    "# Convert to Pandas DataFrame and plot the histogram\n",
    "histogram_data = df.groupBy('listing_title').count().toPandas()\n",
    "histogram_data.plot(kind='bar', x='listing_title', y='count', legend=False)\n",
    "plt.title('Count of each group')\n",
    "plt.xlabel('Listing Title')\n",
    "plt.ylabel('Count')\n",
    "# Rotate x-axis labels for better visibility\n",
    "plt.xticks(rotation=45, ha='right')  \n",
    "\n",
    "plt.show()"
   ]
  },
  {
   "cell_type": "code",
   "execution_count": 12,
   "metadata": {},
   "outputs": [
    {
     "data": {
      "text/html": [
       "<div>\n",
       "<style scoped>\n",
       "    .dataframe tbody tr th:only-of-type {\n",
       "        vertical-align: middle;\n",
       "    }\n",
       "\n",
       "    .dataframe tbody tr th {\n",
       "        vertical-align: top;\n",
       "    }\n",
       "\n",
       "    .dataframe thead th {\n",
       "        text-align: right;\n",
       "    }\n",
       "</style>\n",
       "<table border=\"1\" class=\"dataframe\">\n",
       "  <thead>\n",
       "    <tr style=\"text-align: right;\">\n",
       "      <th></th>\n",
       "      <th>Loan_Status</th>\n",
       "      <th>count</th>\n",
       "    </tr>\n",
       "  </thead>\n",
       "  <tbody>\n",
       "    <tr>\n",
       "      <th>0</th>\n",
       "      <td>CHARGEOFF</td>\n",
       "      <td>222867</td>\n",
       "    </tr>\n",
       "    <tr>\n",
       "      <th>1</th>\n",
       "      <td>DEFAULTED</td>\n",
       "      <td>95344</td>\n",
       "    </tr>\n",
       "    <tr>\n",
       "      <th>2</th>\n",
       "      <td>COMPLETED</td>\n",
       "      <td>1173162</td>\n",
       "    </tr>\n",
       "    <tr>\n",
       "      <th>3</th>\n",
       "      <td>CURRENT</td>\n",
       "      <td>1381520</td>\n",
       "    </tr>\n",
       "    <tr>\n",
       "      <th>4</th>\n",
       "      <td>CANCELLED</td>\n",
       "      <td>2253</td>\n",
       "    </tr>\n",
       "  </tbody>\n",
       "</table>\n",
       "</div>"
      ],
      "text/plain": [
       "  Loan_Status    count\n",
       "0   CHARGEOFF   222867\n",
       "1   DEFAULTED    95344\n",
       "2   COMPLETED  1173162\n",
       "3     CURRENT  1381520\n",
       "4   CANCELLED     2253"
      ]
     },
     "execution_count": 12,
     "metadata": {},
     "output_type": "execute_result"
    }
   ],
   "source": [
    "data_pd = df.groupBy('Loan_Status').count().toPandas()\n",
    "data_pd"
   ]
  },
  {
   "cell_type": "code",
   "execution_count": 13,
   "metadata": {},
   "outputs": [
    {
     "data": {
      "image/png": "[encoded data removed]",
      "text/plain": [
       "<Figure size 500x500 with 1 Axes>"
      ]
     },
     "metadata": {},
     "output_type": "display_data"
    }
   ],
   "source": [
    "import matplotlib.pyplot as plt\n",
    "\n",
    "\n",
    "labels = data_pd['Loan_Status']\n",
    "sizes = data_pd['count']\n",
    "\n",
    "# Create a pie chart\n",
    "plt.figure(figsize=(5, 5))\n",
    "plt.pie(sizes, labels=labels, autopct='%1.1f%%', startangle=140)\n",
    "plt.title('Distribution of Loan Status')\n",
    "plt.show()\n"
   ]
  },
  {
   "cell_type": "code",
   "execution_count": null,
   "metadata": {},
   "outputs": [],
   "source": []
  },
  {
   "cell_type": "code",
   "execution_count": 14,
   "metadata": {},
   "outputs": [
    {
     "name": "stdout",
     "output_type": "stream",
     "text": [
      "root\n",
      " |-- loan_number: integer (nullable = true)\n",
      " |-- amount_borrowed: double (nullable = true)\n",
      " |-- term: integer (nullable = true)\n",
      " |-- borrower_rate: double (nullable = true)\n",
      " |-- installment: double (nullable = true)\n",
      " |-- grade: string (nullable = true)\n",
      " |-- origination_date: timestamp (nullable = true)\n",
      " |-- listing_title: string (nullable = true)\n",
      " |-- principal_balance: double (nullable = true)\n",
      " |-- principal_paid: double (nullable = true)\n",
      " |-- interest_paid: double (nullable = true)\n",
      " |-- late_fees_paid: double (nullable = true)\n",
      " |-- debt_sale_proceeds_received: double (nullable = true)\n",
      " |-- last_payment_date: timestamp (nullable = true)\n",
      " |-- next_payment_due_date: timestamp (nullable = true)\n",
      " |-- days_past_due: integer (nullable = true)\n",
      " |-- Loan_Status: string (nullable = true)\n",
      " |-- data_source: string (nullable = true)\n",
      "\n"
     ]
    }
   ],
   "source": [
    "df.printSchema()"
   ]
  },
  {
   "cell_type": "code",
   "execution_count": 15,
   "metadata": {},
   "outputs": [
    {
     "data": {
      "text/plain": [
       "[('loan_number', 'int'),\n",
       " ('amount_borrowed', 'double'),\n",
       " ('term', 'int'),\n",
       " ('borrower_rate', 'double'),\n",
       " ('installment', 'double'),\n",
       " ('grade', 'string'),\n",
       " ('origination_date', 'timestamp'),\n",
       " ('listing_title', 'string'),\n",
       " ('principal_balance', 'double'),\n",
       " ('principal_paid', 'double'),\n",
       " ('interest_paid', 'double'),\n",
       " ('late_fees_paid', 'double'),\n",
       " ('debt_sale_proceeds_received', 'double'),\n",
       " ('last_payment_date', 'timestamp'),\n",
       " ('next_payment_due_date', 'timestamp'),\n",
       " ('days_past_due', 'int'),\n",
       " ('Loan_Status', 'string'),\n",
       " ('data_source', 'string')]"
      ]
     },
     "execution_count": 15,
     "metadata": {},
     "output_type": "execute_result"
    }
   ],
   "source": [
    "df.dtypes"
   ]
  },
  {
   "cell_type": "code",
   "execution_count": null,
   "metadata": {},
   "outputs": [],
   "source": []
  },
  {
   "cell_type": "markdown",
   "metadata": {},
   "source": [
    "## Data Analysis"
   ]
  },
  {
   "cell_type": "code",
   "execution_count": 16,
   "metadata": {},
   "outputs": [
    {
     "name": "stdout",
     "output_type": "stream",
     "text": [
      "column type string = ['grade', 'listing_title', 'Loan_Status', 'data_source']\n",
      "column type integer = ['loan_number', 'term', 'days_past_due']\n",
      "column double(float) = ['amount_borrowed', 'borrower_rate', 'installment', 'principal_balance', 'principal_paid', 'interest_paid', 'late_fees_paid', 'debt_sale_proceeds_received']\n"
     ]
    }
   ],
   "source": [
    "#filter type data\n",
    "string_columns = [col for col, dtype in df.dtypes if dtype == \"string\"]\n",
    "\n",
    "print(\"column type string =\", string_columns)\n",
    "\n",
    "numeric_columns = [col for col, dtype in df.dtypes if dtype in [\"int\"]]\n",
    "\n",
    "print(\"column type integer =\",numeric_columns)\n",
    "\n",
    "\n",
    "numeric_columns_ = [col for col, dtype in df.dtypes if dtype in [\"double\"]]\n",
    "\n",
    "print(\"column double(float) =\",numeric_columns_)\n"
   ]
  },
  {
   "cell_type": "code",
   "execution_count": 17,
   "metadata": {
    "scrolled": false
   },
   "outputs": [
    {
     "name": "stdout",
     "output_type": "stream",
     "text": [
      "+-----+------+\n",
      "|grade| count|\n",
      "+-----+------+\n",
      "|    F|109319|\n",
      "|    E|241131|\n",
      "|    B|748503|\n",
      "|    D|518479|\n",
      "|    C|787525|\n",
      "|    A|433303|\n",
      "|    G| 36886|\n",
      "+-----+------+\n",
      "\n",
      "+------------------+-------+\n",
      "|     listing_title|  count|\n",
      "+------------------+-------+\n",
      "|           wedding|   1850|\n",
      "|             other| 124427|\n",
      "|    small_business|  22834|\n",
      "|debt_consolidation|1154304|\n",
      "|       credit_card| 441191|\n",
      "|            moving|  13336|\n",
      "|          vacation|  13992|\n",
      "|  renewable_energy|   1259|\n",
      "|             house|  12099|\n",
      "|               car|  21261|\n",
      "|    major_purchase|  44442|\n",
      "|           medical|  24808|\n",
      "|  home_improvement| 136263|\n",
      "|       educational|      2|\n",
      "|              NULL| 863078|\n",
      "+------------------+-------+\n",
      "\n",
      "+-----------+-------+\n",
      "|Loan_Status|  count|\n",
      "+-----------+-------+\n",
      "|  CHARGEOFF| 222867|\n",
      "|  DEFAULTED|  95344|\n",
      "|  COMPLETED|1173162|\n",
      "|    CURRENT|1381520|\n",
      "|  CANCELLED|   2253|\n",
      "+-----------+-------+\n",
      "\n",
      "+------------+-------+\n",
      "| data_source|  count|\n",
      "+------------+-------+\n",
      "|Lending Club|1961527|\n",
      "|     Prosper| 913619|\n",
      "+------------+-------+\n",
      "\n"
     ]
    }
   ],
   "source": [
    "# display count based on grade using pyspark code\n",
    "df.groupBy('grade').count().show()\n",
    "# display count based on listing title using pyspark code\n",
    "df.groupBy('listing_title').count().show()\n",
    "# display count based on loan status using pyspark code\n",
    "df.groupBy('Loan_Status').count().show()\n",
    "# display count based on data source using pyspark code\n",
    "df.groupBy('data_source').count().show()"
   ]
  },
  {
   "cell_type": "code",
   "execution_count": null,
   "metadata": {},
   "outputs": [],
   "source": []
  },
  {
   "cell_type": "code",
   "execution_count": 18,
   "metadata": {},
   "outputs": [
    {
     "data": {
      "text/plain": [
       "DataFrame[summary: string, loan_number: string, amount_borrowed: string, term: string, borrower_rate: string, installment: string, grade: string, listing_title: string, principal_balance: string, principal_paid: string, interest_paid: string, late_fees_paid: string, debt_sale_proceeds_received: string, days_past_due: string, Loan_Status: string, data_source: string]"
      ]
     },
     "execution_count": 18,
     "metadata": {},
     "output_type": "execute_result"
    }
   ],
   "source": [
    "df.describe()"
   ]
  },
  {
   "cell_type": "code",
   "execution_count": null,
   "metadata": {},
   "outputs": [],
   "source": []
  },
  {
   "cell_type": "code",
   "execution_count": 19,
   "metadata": {},
   "outputs": [
    {
     "name": "stdout",
     "output_type": "stream",
     "text": [
      "+-----------+-------+\n",
      "|Loan_Status|  count|\n",
      "+-----------+-------+\n",
      "|  CHARGEOFF| 222867|\n",
      "|  DEFAULTED|  95344|\n",
      "|  COMPLETED|1173162|\n",
      "|    CURRENT|1381520|\n",
      "|  CANCELLED|   2253|\n",
      "+-----------+-------+\n",
      "\n"
     ]
    }
   ],
   "source": [
    "# display count based on loan status using pyspark code\n",
    "df.groupBy('Loan_Status').count().show()"
   ]
  },
  {
   "cell_type": "code",
   "execution_count": 20,
   "metadata": {},
   "outputs": [
    {
     "name": "stdout",
     "output_type": "stream",
     "text": [
      "+-----+--------------------+\n",
      "|grade|avg(amount_borrowed)|\n",
      "+-----+--------------------+\n",
      "|    F|  12207.119023408557|\n",
      "|    E|    15259.8158974997|\n",
      "|    B|  14045.184046864206|\n",
      "|    D|  15028.245432910493|\n",
      "|    C|  14908.438397866732|\n",
      "|    A|  14254.627182179676|\n",
      "|    G|   10157.66890395543|\n",
      "+-----+--------------------+\n",
      "\n",
      "+------------------+--------------------+\n",
      "|     listing_title|avg(amount_borrowed)|\n",
      "+------------------+--------------------+\n",
      "|           wedding|  11608.097297297298|\n",
      "|             other|  10579.387600761893|\n",
      "|    small_business|  16261.971178943679|\n",
      "|debt_consolidation|  15780.150069860281|\n",
      "|       credit_card|  15300.927942773085|\n",
      "|            moving|   8338.394196160767|\n",
      "|          vacation|    6637.56153516295|\n",
      "|  renewable_energy|  10873.351072279587|\n",
      "|             house|  15767.086122820068|\n",
      "|               car|    9665.96865810639|\n",
      "|    major_purchase|   12858.66810674587|\n",
      "|           medical|     9674.5504675911|\n",
      "|  home_improvement|  14654.003139957289|\n",
      "|       educational|              4100.0|\n",
      "|              NULL|  13340.154428558375|\n",
      "+------------------+--------------------+\n",
      "\n",
      "+------------------+--------------------+\n",
      "|     listing_title|sum(amount_borrowed)|\n",
      "+------------------+--------------------+\n",
      "|           wedding|          2.147498E7|\n",
      "|             other|       1.316361461E9|\n",
      "|    small_business|       3.713258499E8|\n",
      "|debt_consolidation|   1.821509034624E10|\n",
      "|       credit_card|         6.7506317E9|\n",
      "|            moving|        1.11200825E8|\n",
      "|          vacation|         9.2872761E7|\n",
      "|  renewable_energy|         1.3689549E7|\n",
      "|             house|        1.90765975E8|\n",
      "|               car|      2.0550815964E8|\n",
      "|    major_purchase|        5.71464928E8|\n",
      "|           medical|        2.40006248E8|\n",
      "|  home_improvement|1.9967984298600001E9|\n",
      "|       educational|              8200.0|\n",
      "|              NULL|1.151359380389130...|\n",
      "+------------------+--------------------+\n",
      "\n"
     ]
    }
   ],
   "source": [
    "import pyspark.sql.functions as F\n",
    "df.select(\"amount_borrowed\", \"grade\").groupBy('grade').agg(F.avg('amount_borrowed')).show()\n",
    "df.select(\"amount_borrowed\", \"listing_title\").groupBy('listing_title').agg(F.avg('amount_borrowed')).show()\n",
    "df.select(\"amount_borrowed\", \"listing_title\").groupBy('listing_title').agg(F.sum('amount_borrowed')).show()\n"
   ]
  },
  {
   "cell_type": "code",
   "execution_count": null,
   "metadata": {},
   "outputs": [],
   "source": []
  },
  {
   "cell_type": "code",
   "execution_count": null,
   "metadata": {},
   "outputs": [],
   "source": []
  },
  {
   "cell_type": "code",
   "execution_count": 21,
   "metadata": {
    "scrolled": true
   },
   "outputs": [
    {
     "name": "stdout",
     "output_type": "stream",
     "text": [
      "root\n",
      " |-- loan_number: integer (nullable = true)\n",
      " |-- amount_borrowed: double (nullable = true)\n",
      " |-- term: integer (nullable = true)\n",
      " |-- borrower_rate: double (nullable = true)\n",
      " |-- installment: double (nullable = true)\n",
      " |-- grade: string (nullable = true)\n",
      " |-- origination_date: timestamp (nullable = true)\n",
      " |-- listing_title: string (nullable = true)\n",
      " |-- principal_balance: double (nullable = true)\n",
      " |-- principal_paid: double (nullable = true)\n",
      " |-- interest_paid: double (nullable = true)\n",
      " |-- late_fees_paid: double (nullable = true)\n",
      " |-- debt_sale_proceeds_received: double (nullable = true)\n",
      " |-- last_payment_date: timestamp (nullable = true)\n",
      " |-- next_payment_due_date: timestamp (nullable = true)\n",
      " |-- days_past_due: integer (nullable = true)\n",
      " |-- Loan_Status: string (nullable = true)\n",
      " |-- data_source: string (nullable = true)\n",
      "\n"
     ]
    }
   ],
   "source": [
    "df.printSchema()"
   ]
  },
  {
   "cell_type": "markdown",
   "metadata": {},
   "source": [
    "## Perform SQL Operations"
   ]
  },
  {
   "cell_type": "code",
   "execution_count": 22,
   "metadata": {},
   "outputs": [],
   "source": [
    "import pyspark.sql as sparksql"
   ]
  },
  {
   "cell_type": "code",
   "execution_count": 23,
   "metadata": {},
   "outputs": [],
   "source": [
    "df.createOrReplaceTempView('lending_dataset')"
   ]
  },
  {
   "cell_type": "code",
   "execution_count": 24,
   "metadata": {},
   "outputs": [
    {
     "name": "stdout",
     "output_type": "stream",
     "text": [
      "+-----------+---------------+-----------+-----+------------------+-----------+------------+\n",
      "|loan_number|amount_borrowed|installment|grade|     listing_title|Loan_Status| data_source|\n",
      "+-----------+---------------+-----------+-----+------------------+-----------+------------+\n",
      "|   10149342|        27050.0|     885.46|    B|debt_consolidation|  COMPLETED|Lending Club|\n",
      "|   10149488|         4800.0|     157.13|    B|  home_improvement|  COMPLETED|Lending Club|\n",
      "|   10148122|        12000.0|     373.94|    A|debt_consolidation|  COMPLETED|Lending Club|\n",
      "|   10119623|        12000.0|     398.52|    B|debt_consolidation|  COMPLETED|Lending Club|\n",
      "|   10159498|        12000.0|     368.45|    A|debt_consolidation|  COMPLETED|Lending Club|\n",
      "+-----------+---------------+-----------+-----+------------------+-----------+------------+\n",
      "\n"
     ]
    }
   ],
   "source": [
    "# display top rows from the table\n",
    "spark.sql(\"select loan_number,amount_borrowed,installment,grade,listing_title,Loan_Status,data_source from lending_dataset limit 5\").show()"
   ]
  },
  {
   "cell_type": "code",
   "execution_count": 25,
   "metadata": {},
   "outputs": [
    {
     "name": "stdout",
     "output_type": "stream",
     "text": [
      "+-----------+------------------------------+----+\n",
      "|Loan_Status|percentage_outstanding_balance|rank|\n",
      "+-----------+------------------------------+----+\n",
      "|    CURRENT|                         0.659|   1|\n",
      "|  DEFAULTED|                         0.081|   2|\n",
      "|  CHARGEOFF|                         0.062|   3|\n",
      "|  COMPLETED|                           0.0|   4|\n",
      "|  CANCELLED|                           0.0|   4|\n",
      "+-----------+------------------------------+----+\n",
      "\n"
     ]
    }
   ],
   "source": [
    "'''/*The average percentage of outstanding balance for each loan status, where the outstanding \n",
    "balance percentage is defined as the principal balance divided by the amount borrowed rank\n",
    "by average*/'''\n",
    "\n",
    "\n",
    "spark.sql(\"\"\"\n",
    "SELECT Loan_Status,\n",
    "       ROUND(AVG(principal_balance / amount_borrowed), 3) AS percentage_outstanding_balance,\n",
    "       RANK() OVER (ORDER BY AVG(principal_balance / amount_borrowed) DESC) AS rank\n",
    "FROM lending_dataset\n",
    "GROUP BY Loan_Status\n",
    "ORDER BY percentage_outstanding_balance DESC;\n",
    "\"\"\").show()"
   ]
  },
  {
   "cell_type": "code",
   "execution_count": 26,
   "metadata": {},
   "outputs": [
    {
     "name": "stdout",
     "output_type": "stream",
     "text": [
      "+-----------+-------------------------------+---------------+-------------------+-------------------+\n",
      "|Loan_Status|percentage_out_standing_balance|amount_borrowed|avg_anount_borrowed|  avg_borrower_rate|\n",
      "+-----------+-------------------------------+---------------+-------------------+-------------------+\n",
      "|  COMPLETED|                            0.0|        1173162| 13799.386691965818|0.13359203554151536|\n",
      "+-----------+-------------------------------+---------------+-------------------+-------------------+\n",
      "\n"
     ]
    }
   ],
   "source": [
    "'''For loan status 'defaulted', order the grades based on the highest to lowest \n",
    "average percentage of outstanding balance. Additionally, display the number of loans and \n",
    "the average borrower rate (interest rate) for each loan.'''\n",
    "\n",
    "spark.sql(\"\"\"\n",
    "select Loan_Status,\n",
    "AVG(principal_balance/amount_borrowed) as percentage_out_standing_balance,\n",
    "COUNT(loan_number)amount_borrowed, AVG(amount_borrowed)avg_anount_borrowed,\n",
    "AVG(borrower_rate)avg_borrower_rate\n",
    "from lending_dataset\n",
    "where Loan_Status = 'COMPLETED'\n",
    "group by Loan_Status\n",
    "order by percentage_out_standing_balance desc\n",
    "\"\"\").show()"
   ]
  },
  {
   "cell_type": "code",
   "execution_count": 27,
   "metadata": {},
   "outputs": [
    {
     "name": "stdout",
     "output_type": "stream",
     "text": [
      "+------------------+---------------+-----+\n",
      "|     listing_title|jumlah_pinjaman|years|\n",
      "+------------------+---------------+-----+\n",
      "|           wedding|      8267925.0| 2012|\n",
      "|          vacation|      2122500.0| 2012|\n",
      "|           medical|      5541900.0| 2012|\n",
      "|    small_business|    2.2547075E7| 2012|\n",
      "|  home_improvement|    3.8147675E7| 2012|\n",
      "|  renewable_energy|       766025.0| 2012|\n",
      "|               car|      6704750.0| 2012|\n",
      "|       credit_card|   1.35442375E8| 2012|\n",
      "|debt_consolidation|   4.44852375E8| 2012|\n",
      "|    major_purchase|    1.2726875E7| 2012|\n",
      "|             other|     3.075945E7| 2012|\n",
      "|            moving|      3093600.0| 2012|\n",
      "|             house|      6970100.0| 2012|\n",
      "|    major_purchase|     2.454945E7| 2013|\n",
      "|             house|    1.0947625E7| 2013|\n",
      "|          vacation|      3293525.0| 2013|\n",
      "|  renewable_energy|       539950.0| 2013|\n",
      "|    small_business|    2.1505575E7| 2013|\n",
      "|  home_improvement|   1.04904725E8| 2013|\n",
      "|            moving|      4963775.0| 2013|\n",
      "+------------------+---------------+-----+\n",
      "only showing top 20 rows\n",
      "\n"
     ]
    }
   ],
   "source": [
    "# total pinjaman yang telah diberikan ke setiap nasabah berdasarkan tahun di kolom origination_date\n",
    "#\n",
    "spark.sql(\"\"\"\n",
    "Select distinct listing_title,\n",
    "SUM(amount_borrowed)jumlah_pinjaman,EXTRACT(YEAR FROM origination_date)years\n",
    "from lending_dataset\n",
    "group by years,listing_title\n",
    "order by years asc\n",
    "\n",
    "\"\"\").show()"
   ]
  },
  {
   "cell_type": "code",
   "execution_count": 28,
   "metadata": {},
   "outputs": [
    {
     "name": "stdout",
     "output_type": "stream",
     "text": [
      "+----------------+---------------+-----+\n",
      "|   listing_title|jumlah_pinjaman|years|\n",
      "+----------------+---------------+-----+\n",
      "|home_improvement|    3.8147675E7| 2012|\n",
      "|home_improvement|   1.04904725E8| 2013|\n",
      "|home_improvement|   1.89687575E8| 2014|\n",
      "|home_improvement|   3.73108025E8| 2015|\n",
      "|home_improvement| 4.5224639686E8| 2016|\n",
      "|home_improvement|   5.42830606E8| 2017|\n",
      "|home_improvement|   2.95873427E8| 2018|\n",
      "+----------------+---------------+-----+\n",
      "\n"
     ]
    }
   ],
   "source": [
    "# total pinjaman yang telah diberikan ke setiap nasabah berdasarkan tahun di kolom origination_date dan hanya dengan listing yang \n",
    "# memiliki kata home\n",
    "spark.sql(\"\"\"\n",
    "Select distinct listing_title,\n",
    "SUM(amount_borrowed)jumlah_pinjaman,EXTRACT(YEAR FROM origination_date)years\n",
    "from lending_dataset\n",
    "where listing_title ilike '%home%'\n",
    "group by years,listing_title\n",
    "order by years asc\n",
    "\n",
    "\"\"\").show()"
   ]
  },
  {
   "cell_type": "code",
   "execution_count": 29,
   "metadata": {},
   "outputs": [
    {
     "name": "stdout",
     "output_type": "stream",
     "text": [
      "+-----+----------------+---------------+\n",
      "|years|   listing_title|jumlah_pinjaman|\n",
      "+-----+----------------+---------------+\n",
      "| 2012|home_improvement|    3.8147675E7|\n",
      "| 2013|home_improvement|   1.04904725E8|\n",
      "| 2014|home_improvement|   1.89687575E8|\n",
      "| 2015|home_improvement|   3.73108025E8|\n",
      "| 2016|home_improvement| 4.5224639686E8|\n",
      "| 2017|home_improvement|   5.42830606E8|\n",
      "| 2018|home_improvement|   2.95873427E8|\n",
      "+-----+----------------+---------------+\n",
      "\n"
     ]
    }
   ],
   "source": [
    "#in pyspark \n",
    "from pyspark.sql import SparkSession\n",
    "from pyspark.sql.functions import sum, year\n",
    "from pyspark.sql.types import StringType  # Add this import if needed\n",
    "from pyspark.sql.functions import sum, substring\n",
    "\n",
    "result = (df\n",
    "          .filter(df['listing_title'].like('%home%'))\n",
    "          .groupBy(substring('origination_date', 1, 4).alias('years'), 'listing_title')\n",
    "          .agg(sum('amount_borrowed').alias('jumlah_pinjaman'))\n",
    "          .orderBy('years'))\n",
    "\n",
    "# Show the result\n",
    "result.show()"
   ]
  },
  {
   "cell_type": "code",
   "execution_count": 30,
   "metadata": {},
   "outputs": [
    {
     "name": "stdout",
     "output_type": "stream",
     "text": [
      "+----------------+--------------------+\n",
      "|   listing_title|         total_loans|\n",
      "+----------------+--------------------+\n",
      "|home_improvement|1.9967984298600001E9|\n",
      "+----------------+--------------------+\n",
      "\n"
     ]
    }
   ],
   "source": [
    "#Total loans provided to customers with a purpose related to homes, which \n",
    "#can be found from listing_title containing the word \"home\"\n",
    "\n",
    "spark.sql(\"\"\"\n",
    "Select listing_title,\n",
    "SUM(amount_borrowed)total_loans\n",
    "from lending_dataset\n",
    "where listing_title ilike '%home%'\n",
    "group by listing_title\n",
    "\"\"\").show()\n",
    "    "
   ]
  },
  {
   "cell_type": "code",
   "execution_count": 31,
   "metadata": {},
   "outputs": [
    {
     "data": {
      "text/plain": [
       "').show()\\n'"
      ]
     },
     "execution_count": 31,
     "metadata": {},
     "output_type": "execute_result"
    }
   ],
   "source": [
    "\"\"\"\"\n",
    "\n",
    "spark.sql(\"\"\"\n",
    "\n",
    "# you may enter query sql here\n",
    "\n",
    "\"\"\").show()\n",
    "\"\"\""
   ]
  },
  {
   "cell_type": "markdown",
   "metadata": {},
   "source": [
    "## Data Cleaning pyspark"
   ]
  },
  {
   "cell_type": "code",
   "execution_count": 32,
   "metadata": {},
   "outputs": [
    {
     "name": "stdout",
     "output_type": "stream",
     "text": [
      "+-----------+---------------+----+-------------+-----------+-----+----------------+-------------+-----------------+--------------+-------------+--------------+---------------------------+-----------------+---------------------+-------------+-----------+-----------+\n",
      "|loan_number|amount_borrowed|term|borrower_rate|installment|grade|origination_date|listing_title|principal_balance|principal_paid|interest_paid|late_fees_paid|debt_sale_proceeds_received|last_payment_date|next_payment_due_date|days_past_due|Loan_Status|data_source|\n",
      "+-----------+---------------+----+-------------+-----------+-----+----------------+-------------+-----------------+--------------+-------------+--------------+---------------------------+-----------------+---------------------+-------------+-----------+-----------+\n",
      "|          0|              0|   0|            0|          0|    0|               0|       863078|                0|             0|            0|             0|                          0|                0|                    0|            0|          0|          0|\n",
      "+-----------+---------------+----+-------------+-----------+-----+----------------+-------------+-----------------+--------------+-------------+--------------+---------------------------+-----------------+---------------------+-------------+-----------+-----------+\n",
      "\n"
     ]
    }
   ],
   "source": [
    "null_counts = df.select([F.count(F.when(F.col(c).isNull(), c)).alias(c) for c in df.columns]).show()\n"
   ]
  },
  {
   "cell_type": "code",
   "execution_count": 33,
   "metadata": {},
   "outputs": [],
   "source": [
    "df = df.dropna()"
   ]
  },
  {
   "cell_type": "code",
   "execution_count": 34,
   "metadata": {},
   "outputs": [
    {
     "name": "stdout",
     "output_type": "stream",
     "text": [
      "+-----------+---------------+----+-------------+-----------+-----+----------------+-------------+-----------------+--------------+-------------+--------------+---------------------------+-----------------+---------------------+-------------+-----------+-----------+\n",
      "|loan_number|amount_borrowed|term|borrower_rate|installment|grade|origination_date|listing_title|principal_balance|principal_paid|interest_paid|late_fees_paid|debt_sale_proceeds_received|last_payment_date|next_payment_due_date|days_past_due|Loan_Status|data_source|\n",
      "+-----------+---------------+----+-------------+-----------+-----+----------------+-------------+-----------------+--------------+-------------+--------------+---------------------------+-----------------+---------------------+-------------+-----------+-----------+\n",
      "|          0|              0|   0|            0|          0|    0|               0|            0|                0|             0|            0|             0|                          0|                0|                    0|            0|          0|          0|\n",
      "+-----------+---------------+----+-------------+-----------+-----+----------------+-------------+-----------------+--------------+-------------+--------------+---------------------------+-----------------+---------------------+-------------+-----------+-----------+\n",
      "\n"
     ]
    }
   ],
   "source": [
    "#cek \n",
    "null_counts = df.select([F.count(F.when(F.col(c).isNull(), c)).alias(c) for c in df.columns]).show()\n"
   ]
  },
  {
   "cell_type": "code",
   "execution_count": 35,
   "metadata": {},
   "outputs": [
    {
     "data": {
      "text/plain": [
       "14958.341076265811"
      ]
     },
     "execution_count": 35,
     "metadata": {},
     "output_type": "execute_result"
    }
   ],
   "source": [
    "# get mean value of column \n",
    "mean = df.select(F.avg(df['amount_borrowed'])).collect()[0][0]\n",
    "mean"
   ]
  },
  {
   "cell_type": "code",
   "execution_count": null,
   "metadata": {},
   "outputs": [],
   "source": []
  },
  {
   "cell_type": "code",
   "execution_count": 36,
   "metadata": {},
   "outputs": [
    {
     "data": {
      "text/plain": [
       "'debt_consolidation'"
      ]
     },
     "execution_count": 36,
     "metadata": {},
     "output_type": "execute_result"
    }
   ],
   "source": [
    "# get mode value of column\n",
    "mode_gender = df.groupby('listing_title').count().orderBy(\"count\", ascending=False).first()[0]\n",
    "mode_gender"
   ]
  },
  {
   "cell_type": "code",
   "execution_count": null,
   "metadata": {},
   "outputs": [],
   "source": []
  },
  {
   "cell_type": "code",
   "execution_count": 37,
   "metadata": {},
   "outputs": [],
   "source": [
    "# fill null values for all the columns\n",
    "numerical_cols = ['loan_number', 'amount_borrowed', 'term', 'borrower_rate', 'installment', 'principal_balance', 'principal_paid', 'interest_paid', 'late_fees_paid', 'debt_sale_proceeds_received', 'days_past_due']\n",
    "categorical_cols = ['grade', 'listing_title', 'Loan_Status', 'data_source']"
   ]
  },
  {
   "cell_type": "code",
   "execution_count": 38,
   "metadata": {},
   "outputs": [
    {
     "name": "stdout",
     "output_type": "stream",
     "text": [
      "+-----------+---------------+----+-------------------+-----------+-----+-------------------+------------------+-----------------+--------------+-------------+--------------+---------------------------+-------------------+---------------------+-------------+-----------+------------+\n",
      "|loan_number|amount_borrowed|term|      borrower_rate|installment|grade|   origination_date|     listing_title|principal_balance|principal_paid|interest_paid|late_fees_paid|debt_sale_proceeds_received|  last_payment_date|next_payment_due_date|days_past_due|Loan_Status| data_source|\n",
      "+-----------+---------------+----+-------------------+-----------+-----+-------------------+------------------+-----------------+--------------+-------------+--------------+---------------------------+-------------------+---------------------+-------------+-----------+------------+\n",
      "|   10149342|        27050.0|  36|             0.1099|     885.46|    B|2013-12-01 00:00:00|debt_consolidation|              0.0|       27050.0|      4702.53|           0.0|                        0.0|2016-07-01 00:00:00|  2016-08-01 00:00:00|            0|  COMPLETED|Lending Club|\n",
      "|   10149488|         4800.0|  36|             0.1099|     157.13|    B|2013-12-01 00:00:00|  home_improvement|              0.0|        4800.0|       357.52|           0.0|                        0.0|2014-09-01 00:00:00|  2014-10-01 00:00:00|            0|  COMPLETED|Lending Club|\n",
      "|   10148122|        12000.0|  36|             0.0762|     373.94|    A|2013-12-01 00:00:00|debt_consolidation|              0.0|       12000.0|      1397.54|           0.0|                        0.0|2016-06-01 00:00:00|  2016-07-01 00:00:00|            0|  COMPLETED|Lending Club|\n",
      "|   10119623|        12000.0|  36|             0.1199|     398.52|    B|2013-12-01 00:00:00|debt_consolidation|              0.0|       12000.0|      2346.48|           0.0|                        0.0|2017-01-01 00:00:00|  2017-02-01 00:00:00|            0|  COMPLETED|Lending Club|\n",
      "|   10159498|        12000.0|  36|             0.0662|     368.45|    A|2013-12-01 00:00:00|debt_consolidation|              0.0|       12000.0|      1263.95|           0.0|                        0.0|2017-01-01 00:00:00|  2017-02-01 00:00:00|            0|  COMPLETED|Lending Club|\n",
      "|   10119590|        11500.0|  60|0.22899999999999998|     323.54|    E|2013-12-01 00:00:00|debt_consolidation|              0.0|       11500.0|      7286.25|           0.0|                        0.0|2017-09-01 00:00:00|  2017-10-01 00:00:00|            0|  COMPLETED|Lending Club|\n",
      "|   10159548|        15000.0|  36|0.08900000000000001|      476.3|    A|2013-12-01 00:00:00|debt_consolidation|              0.0|       15000.0|      2146.73|           0.0|                        0.0|2017-01-01 00:00:00|  2017-02-01 00:00:00|            0|  COMPLETED|Lending Club|\n",
      "|   10127816|        24000.0|  36|             0.1353|      814.8|    B|2013-12-01 00:00:00|       credit_card|              0.0|       24000.0|      4652.21|           0.0|                        0.0|2015-12-01 00:00:00|  2016-01-01 00:00:00|            0|  COMPLETED|Lending Club|\n",
      "|   10139658|        12000.0|  36|             0.1353|      407.4|    B|2013-12-01 00:00:00|debt_consolidation|              0.0|       12000.0|      1359.78|           0.0|                        0.0|2015-09-01 00:00:00|  2015-10-01 00:00:00|            0|  COMPLETED|Lending Club|\n",
      "|   10129477|        14000.0|  36|             0.1285|     470.71|    B|2013-12-01 00:00:00|debt_consolidation|              0.0|       14000.0|      2945.32|           0.0|                        0.0|2017-01-01 00:00:00|  2017-02-01 00:00:00|            0|  COMPLETED|Lending Club|\n",
      "|   10129506|        20800.0|  36|             0.1353|     706.16|    B|2013-12-01 00:00:00|debt_consolidation|              0.0|       20800.0|      3126.64|           0.0|                        0.0|2015-05-01 00:00:00|  2015-06-01 00:00:00|            0|  COMPLETED|Lending Club|\n",
      "|   10159611|        10000.0|  36|             0.0967|     321.13|    B|2013-12-01 00:00:00|debt_consolidation|              0.0|       10000.0|      1560.46|           0.0|                        0.0|2017-01-01 00:00:00|  2017-02-01 00:00:00|            0|  COMPLETED|Lending Club|\n",
      "|   10224583|        11100.0|  36|0.14980000000000002|     384.68|    C|2013-12-01 00:00:00|             other|              0.0|       11100.0|      2475.64|           0.0|                        0.0|2016-02-01 00:00:00|  2016-03-01 00:00:00|            0|  COMPLETED|Lending Club|\n",
      "|   10129454|        12000.0|  36|             0.1099|     392.81|    B|2013-12-01 00:00:00|debt_consolidation|              0.0|       12000.0|      1988.61|           0.0|                        0.0|2016-04-01 00:00:00|  2016-05-01 00:00:00|            0|  COMPLETED|Lending Club|\n",
      "|   10179520|         3000.0|  36|             0.1285|     100.87|    B|2013-12-01 00:00:00|debt_consolidation|              0.0|        3000.0|       181.55|           0.0|                        0.0|2014-07-01 00:00:00|  2014-08-01 00:00:00|            0|  COMPLETED|Lending Club|\n",
      "|   10129403|         7550.0|  36|             0.1624|     266.34|    C|2013-12-01 00:00:00|debt_consolidation|              0.0|        7550.0|      2050.45|           0.0|                        0.0|2016-12-01 00:00:00|  2017-01-01 00:00:00|            0|  COMPLETED|Lending Club|\n",
      "|   10149577|        28000.0|  36|             0.0762|     872.52|    A|2013-12-01 00:00:00|debt_consolidation|              0.0|       28000.0|      1150.98|           0.0|                        0.0|2014-08-01 00:00:00|  2014-09-01 00:00:00|            0|  COMPLETED|Lending Club|\n",
      "|   10149526|        27600.0|  60|             0.1997|     730.78|    D|2013-12-01 00:00:00|debt_consolidation|              0.0|      14738.17|     13762.25|           0.0|                    1802.67|2017-04-01 00:00:00|  2017-05-01 00:00:00|          486|  CHARGEOFF|Lending Club|\n",
      "|   10149566|         8000.0|  36|             0.1099|     261.88|    B|2013-12-01 00:00:00|debt_consolidation|              0.0|       3854.81|      1120.22|          15.0|                     632.47|2015-10-01 00:00:00|  2015-11-01 00:00:00|         1033|  CHARGEOFF|Lending Club|\n",
      "|   10148818|        15000.0|  36|             0.1447|      516.1|    C|2013-12-01 00:00:00|debt_consolidation|              0.0|       15000.0|       699.05|           0.0|                        0.0|2014-05-01 00:00:00|  2014-06-01 00:00:00|            0|  COMPLETED|Lending Club|\n",
      "+-----------+---------------+----+-------------------+-----------+-----+-------------------+------------------+-----------------+--------------+-------------+--------------+---------------------------+-------------------+---------------------+-------------+-----------+------------+\n",
      "only showing top 20 rows\n",
      "\n"
     ]
    }
   ],
   "source": [
    "all_columns = df.columns\n",
    "\n",
    "# Apply StringIndexer to string columns\n",
    "for column in all_columns:\n",
    "    if df.schema[column].dataType == \"string\":\n",
    "        string_indexer = StringIndexer(inputCol=column, outputCol=\"encoded_\" + column)\n",
    "        df = string_indexer.fit(df).transform(df)\n",
    "\n",
    "# Show the transformed DataFrame\n",
    "df.show()"
   ]
  },
  {
   "cell_type": "code",
   "execution_count": 39,
   "metadata": {},
   "outputs": [],
   "source": [
    "for col in numerical_cols:\n",
    "    mean = df.select(F.mean(df[col])).collect()[0][0]\n",
    "    df = df.na.fill(mean, [col])"
   ]
  },
  {
   "cell_type": "code",
   "execution_count": 40,
   "metadata": {},
   "outputs": [],
   "source": [
    "for col in categorical_cols:\n",
    "    mode = df.groupby(col).count().orderBy(\"count\", ascending=False).first()[0]\n",
    "    df = df.na.fill(mode, [col])"
   ]
  },
  {
   "cell_type": "code",
   "execution_count": 41,
   "metadata": {},
   "outputs": [
    {
     "name": "stdout",
     "output_type": "stream",
     "text": [
      "+-----------+---------------+----+-------------+-----------+-----+----------------+-------------+-----------------+--------------+-------------+--------------+---------------------------+-----------------+---------------------+-------------+-----------+-----------+\n",
      "|loan_number|amount_borrowed|term|borrower_rate|installment|grade|origination_date|listing_title|principal_balance|principal_paid|interest_paid|late_fees_paid|debt_sale_proceeds_received|last_payment_date|next_payment_due_date|days_past_due|Loan_Status|data_source|\n",
      "+-----------+---------------+----+-------------+-----------+-----+----------------+-------------+-----------------+--------------+-------------+--------------+---------------------------+-----------------+---------------------+-------------+-----------+-----------+\n",
      "|          0|              0|   0|            0|          0|    0|               0|            0|                0|             0|            0|             0|                          0|                0|                    0|            0|          0|          0|\n",
      "+-----------+---------------+----+-------------+-----------+-----+----------------+-------------+-----------------+--------------+-------------+--------------+---------------------------+-----------------+---------------------+-------------+-----------+-----------+\n",
      "\n"
     ]
    }
   ],
   "source": [
    "# display null values\n",
    "df.select([F.count(F.when(F.col(c).isNull(), c)).alias(c) for c in df.columns]).show()"
   ]
  },
  {
   "cell_type": "code",
   "execution_count": 42,
   "metadata": {},
   "outputs": [
    {
     "name": "stdout",
     "output_type": "stream",
     "text": [
      "+-----------+-------+\n",
      "|Loan_Status|  count|\n",
      "+-----------+-------+\n",
      "|  CHARGEOFF| 203856|\n",
      "|  DEFAULTED|   2758|\n",
      "|  COMPLETED| 797399|\n",
      "|    CURRENT|1007859|\n",
      "|  CANCELLED|    196|\n",
      "+-----------+-------+\n",
      "\n"
     ]
    }
   ],
   "source": [
    "df.groupBy('Loan_Status').count().show()"
   ]
  },
  {
   "cell_type": "code",
   "execution_count": 43,
   "metadata": {
    "scrolled": false
   },
   "outputs": [
    {
     "name": "stdout",
     "output_type": "stream",
     "text": [
      "+-----------+---------------+----+-------------+-----------+-----+-------------------+------------------+-----------------+--------------+-------------+--------------+---------------------------+-------------------+---------------------+-------------+-----------+------------+\n",
      "|loan_number|amount_borrowed|term|borrower_rate|installment|grade|   origination_date|     listing_title|principal_balance|principal_paid|interest_paid|late_fees_paid|debt_sale_proceeds_received|  last_payment_date|next_payment_due_date|days_past_due|Loan_Status| data_source|\n",
      "+-----------+---------------+----+-------------+-----------+-----+-------------------+------------------+-----------------+--------------+-------------+--------------+---------------------------+-------------------+---------------------+-------------+-----------+------------+\n",
      "|   10149342|        27050.0|  36|       0.1099|     885.46|    B|2013-12-01 00:00:00|debt_consolidation|              0.0|       27050.0|      4702.53|           0.0|                        0.0|2016-07-01 00:00:00|  2016-08-01 00:00:00|            0|          1|Lending Club|\n",
      "|   10149488|         4800.0|  36|       0.1099|     157.13|    B|2013-12-01 00:00:00|  home_improvement|              0.0|        4800.0|       357.52|           0.0|                        0.0|2014-09-01 00:00:00|  2014-10-01 00:00:00|            0|          1|Lending Club|\n",
      "|   10148122|        12000.0|  36|       0.0762|     373.94|    A|2013-12-01 00:00:00|debt_consolidation|              0.0|       12000.0|      1397.54|           0.0|                        0.0|2016-06-01 00:00:00|  2016-07-01 00:00:00|            0|          1|Lending Club|\n",
      "|   10119623|        12000.0|  36|       0.1199|     398.52|    B|2013-12-01 00:00:00|debt_consolidation|              0.0|       12000.0|      2346.48|           0.0|                        0.0|2017-01-01 00:00:00|  2017-02-01 00:00:00|            0|          1|Lending Club|\n",
      "|   10159498|        12000.0|  36|       0.0662|     368.45|    A|2013-12-01 00:00:00|debt_consolidation|              0.0|       12000.0|      1263.95|           0.0|                        0.0|2017-01-01 00:00:00|  2017-02-01 00:00:00|            0|          1|Lending Club|\n",
      "+-----------+---------------+----+-------------+-----------+-----+-------------------+------------------+-----------------+--------------+-------------+--------------+---------------------------+-------------------+---------------------+-------------+-----------+------------+\n",
      "only showing top 5 rows\n",
      "\n"
     ]
    }
   ],
   "source": [
    "# how to find and replace values\n",
    "df = df.withColumn('Loan_Status', F.when(df['Loan_Status']=='COMPLETED', 1).otherwise(0))\n",
    "df.show(5)"
   ]
  },
  {
   "cell_type": "markdown",
   "metadata": {},
   "source": [
    "## Feature Engineering"
   ]
  },
  {
   "cell_type": "code",
   "execution_count": 44,
   "metadata": {},
   "outputs": [
    {
     "name": "stdout",
     "output_type": "stream",
     "text": [
      "root\n",
      " |-- loan_number: integer (nullable = true)\n",
      " |-- amount_borrowed: double (nullable = false)\n",
      " |-- term: integer (nullable = true)\n",
      " |-- borrower_rate: double (nullable = false)\n",
      " |-- installment: double (nullable = false)\n",
      " |-- grade: string (nullable = false)\n",
      " |-- origination_date: timestamp (nullable = true)\n",
      " |-- listing_title: string (nullable = false)\n",
      " |-- principal_balance: double (nullable = false)\n",
      " |-- principal_paid: double (nullable = false)\n",
      " |-- interest_paid: double (nullable = false)\n",
      " |-- late_fees_paid: double (nullable = false)\n",
      " |-- debt_sale_proceeds_received: double (nullable = false)\n",
      " |-- last_payment_date: timestamp (nullable = true)\n",
      " |-- next_payment_due_date: timestamp (nullable = true)\n",
      " |-- days_past_due: integer (nullable = true)\n",
      " |-- Loan_Status: integer (nullable = false)\n",
      " |-- data_source: string (nullable = false)\n",
      "\n"
     ]
    }
   ],
   "source": [
    "df.printSchema()"
   ]
  },
  {
   "cell_type": "code",
   "execution_count": 45,
   "metadata": {},
   "outputs": [
    {
     "name": "stdout",
     "output_type": "stream",
     "text": [
      "['grade', 'listing_title', 'data_source']\n"
     ]
    }
   ],
   "source": [
    "#filter type\n",
    "string_columns = [col for col, dtype in df.dtypes if dtype == \"string\"]\n",
    "\n",
    "print(string_columns)\n"
   ]
  },
  {
   "cell_type": "code",
   "execution_count": 46,
   "metadata": {},
   "outputs": [
    {
     "name": "stdout",
     "output_type": "stream",
     "text": [
      "['loan_number', 'term', 'days_past_due', 'Loan_Status']\n"
     ]
    }
   ],
   "source": [
    "#filter type\n",
    "numeric_columns = [col for col, dtype in df.dtypes if dtype in [\"int\"]]\n",
    "\n",
    "print(numeric_columns)\n"
   ]
  },
  {
   "cell_type": "code",
   "execution_count": 47,
   "metadata": {},
   "outputs": [
    {
     "name": "stdout",
     "output_type": "stream",
     "text": [
      "['loan_number', 'amount_borrowed', 'term', 'borrower_rate', 'installment', 'principal_balance', 'principal_paid', 'interest_paid', 'late_fees_paid', 'debt_sale_proceeds_received', 'days_past_due', 'Loan_Status']\n"
     ]
    }
   ],
   "source": [
    "#filter type\n",
    "numeric_columns = [col for col, dtype in df.dtypes if dtype in [\"double\",\"int\"]]\n",
    "\n",
    "print(numeric_columns)\n"
   ]
  },
  {
   "cell_type": "code",
   "execution_count": 48,
   "metadata": {},
   "outputs": [],
   "source": [
    "from pyspark.ml.feature import VectorAssembler, OneHotEncoder, StringIndexer\n",
    "from pyspark.ml import Pipeline"
   ]
  },
  {
   "cell_type": "code",
   "execution_count": 49,
   "metadata": {},
   "outputs": [],
   "source": [
    "categorical_columns = ['grade', 'listing_title', 'Loan_Status', 'data_source']\n",
    "numerical_columns = ['amount_borrowed', 'borrower_rate', 'late_fees_paid', 'debt_sale_proceeds_received']\n",
    "\n",
    "# index the string columns\n",
    "indexers = [StringIndexer(inputCol=col, outputCol=\"{0}_index\".format(col)) for col in categorical_columns]\n",
    "\n",
    "# encode the indexed values\n",
    "encoders = [OneHotEncoder(dropLast=False, inputCol=indexer.getOutputCol(), outputCol=\"{0}_encoded\".format(indexer.getOutputCol()))\n",
    "           for indexer in indexers]\n",
    "\n",
    "input_columns = [encoder.getOutputCol() for encoder in encoders] + numerical_columns\n",
    "\n",
    "# vectorize the encoded values\n",
    "assembler = VectorAssembler(inputCols=input_columns, outputCol=\"feature\")"
   ]
  },
  {
   "cell_type": "code",
   "execution_count": 50,
   "metadata": {},
   "outputs": [],
   "source": [
    "# create the pipeline to transform the data\n",
    "pipeline = Pipeline(stages = indexers + encoders + [assembler])"
   ]
  },
  {
   "cell_type": "code",
   "execution_count": 51,
   "metadata": {},
   "outputs": [],
   "source": [
    "data_model = pipeline.fit(df)"
   ]
  },
  {
   "cell_type": "code",
   "execution_count": 52,
   "metadata": {},
   "outputs": [],
   "source": [
    "transformed_df = data_model.transform(df)"
   ]
  },
  {
   "cell_type": "code",
   "execution_count": 53,
   "metadata": {},
   "outputs": [
    {
     "name": "stdout",
     "output_type": "stream",
     "text": [
      "+-----------+---------------+----+-------------+-----------+-----+-------------------+------------------+-----------------+--------------+-------------+--------------+---------------------------+-------------------+---------------------+-------------+-----------+------------+-----------+-------------------+-----------------+-----------------+-------------------+---------------------------+-------------------------+-------------------------+--------------------+\n",
      "|loan_number|amount_borrowed|term|borrower_rate|installment|grade|   origination_date|     listing_title|principal_balance|principal_paid|interest_paid|late_fees_paid|debt_sale_proceeds_received|  last_payment_date|next_payment_due_date|days_past_due|Loan_Status| data_source|grade_index|listing_title_index|Loan_Status_index|data_source_index|grade_index_encoded|listing_title_index_encoded|Loan_Status_index_encoded|data_source_index_encoded|             feature|\n",
      "+-----------+---------------+----+-------------+-----------+-----+-------------------+------------------+-----------------+--------------+-------------+--------------+---------------------------+-------------------+---------------------+-------------+-----------+------------+-----------+-------------------+-----------------+-----------------+-------------------+---------------------------+-------------------------+-------------------------+--------------------+\n",
      "|   10149342|        27050.0|  36|       0.1099|     885.46|    B|2013-12-01 00:00:00|debt_consolidation|              0.0|       27050.0|      4702.53|           0.0|                        0.0|2016-07-01 00:00:00|  2016-08-01 00:00:00|            0|          1|Lending Club|        1.0|                0.0|              1.0|              0.0|      (7,[1],[1.0])|             (14,[0],[1.0])|            (2,[1],[1.0])|            (2,[0],[1.0])|(29,[1,7,22,23,25...|\n",
      "+-----------+---------------+----+-------------+-----------+-----+-------------------+------------------+-----------------+--------------+-------------+--------------+---------------------------+-------------------+---------------------+-------------+-----------+------------+-----------+-------------------+-----------------+-----------------+-------------------+---------------------------+-------------------------+-------------------------+--------------------+\n",
      "only showing top 1 row\n",
      "\n"
     ]
    }
   ],
   "source": [
    "transformed_df.show(1)"
   ]
  },
  {
   "cell_type": "code",
   "execution_count": 54,
   "metadata": {},
   "outputs": [],
   "source": [
    "\n",
    "# split the data for train and test\n",
    "train_data, test_data = transformed_df.randomSplit([0.8, 0.2], seed=42)"
   ]
  },
  {
   "cell_type": "code",
   "execution_count": 55,
   "metadata": {},
   "outputs": [
    {
     "name": "stdout",
     "output_type": "stream",
     "text": [
      "+-----------+---------------+----+-------------+-----------+-----+-------------------+------------------+-----------------+--------------+-------------+--------------+---------------------------+-------------------+---------------------+-------------+-----------+------------+-----------+-------------------+-----------------+-----------------+-------------------+---------------------------+-------------------------+-------------------------+--------------------+\n",
      "|loan_number|amount_borrowed|term|borrower_rate|installment|grade|   origination_date|     listing_title|principal_balance|principal_paid|interest_paid|late_fees_paid|debt_sale_proceeds_received|  last_payment_date|next_payment_due_date|days_past_due|Loan_Status| data_source|grade_index|listing_title_index|Loan_Status_index|data_source_index|grade_index_encoded|listing_title_index_encoded|Loan_Status_index_encoded|data_source_index_encoded|             feature|\n",
      "+-----------+---------------+----+-------------+-----------+-----+-------------------+------------------+-----------------+--------------+-------------+--------------+---------------------------+-------------------+---------------------+-------------+-----------+------------+-----------+-------------------+-----------------+-----------------+-------------------+---------------------------+-------------------------+-------------------------+--------------------+\n",
      "|      57167|        25000.0|  36|       0.1699|      891.2|    D|2014-08-01 00:00:00|debt_consolidation|              0.0|       1634.65|      1038.95|         44.56|                    3354.94|2014-12-01 00:00:00|  2015-01-01 00:00:00|         1337|          0|Lending Club|        3.0|                0.0|              0.0|              0.0|      (7,[3],[1.0])|             (14,[0],[1.0])|            (2,[0],[1.0])|            (2,[0],[1.0])|(29,[3,7,21,23,25...|\n",
      "|      58524|         7200.0|  36|       0.1905|     264.11|    D|2012-08-01 00:00:00|debt_consolidation|              0.0|        7200.0|      1902.44|           0.0|                        0.0|2014-06-01 00:00:00|  2014-07-01 00:00:00|            0|          1|Lending Club|        3.0|                0.0|              1.0|              0.0|      (7,[3],[1.0])|             (14,[0],[1.0])|            (2,[1],[1.0])|            (2,[0],[1.0])|(29,[3,7,22,23,25...|\n",
      "|     356706|         2400.0|  36|       0.1776|      86.48|    D|2013-10-01 00:00:00|debt_consolidation|              0.0|        2400.0|       710.55|           0.0|                        0.0|2016-08-01 00:00:00|  2016-09-01 00:00:00|            0|          1|Lending Club|        3.0|                0.0|              1.0|              0.0|      (7,[3],[1.0])|             (14,[0],[1.0])|            (2,[1],[1.0])|            (2,[0],[1.0])|(29,[3,7,22,23,25...|\n",
      "|     361542|        28000.0|  36|       0.0699|     864.44|    A|2014-12-01 00:00:00|    small_business|              0.0|       28000.0|      2280.03|           0.0|                        0.0|2016-06-01 00:00:00|  2016-07-01 00:00:00|            0|          1|Lending Club|        2.0|                6.0|              1.0|              0.0|      (7,[2],[1.0])|             (14,[6],[1.0])|            (2,[1],[1.0])|            (2,[0],[1.0])|(29,[2,13,22,23,2...|\n",
      "|     367050|        28000.0|  36|       0.0712|      866.1|    A|2014-10-01 00:00:00|debt_consolidation|              0.0|       28000.0|      2551.04|           0.0|                        0.0|2016-06-01 00:00:00|  2016-07-01 00:00:00|            0|          1|Lending Club|        2.0|                0.0|              1.0|              0.0|      (7,[2],[1.0])|             (14,[0],[1.0])|            (2,[1],[1.0])|            (2,[0],[1.0])|(29,[2,7,22,23,25...|\n",
      "+-----------+---------------+----+-------------+-----------+-----+-------------------+------------------+-----------------+--------------+-------------+--------------+---------------------------+-------------------+---------------------+-------------+-----------+------------+-----------+-------------------+-----------------+-----------------+-------------------+---------------------------+-------------------------+-------------------------+--------------------+\n",
      "only showing top 5 rows\n",
      "\n"
     ]
    }
   ],
   "source": [
    "train_data.show(5)"
   ]
  },
  {
   "cell_type": "markdown",
   "metadata": {},
   "source": [
    "Preprocessing the data\n",
    "Training and testing sets are ready now. We are only left with one final preprocessing step of scaling before we can fit a machine learning model to the data.\n",
    "\n",
    "Now, let's try to understand what these scaled values mean in the real world. Let's use CreditScore as an example. The credit score of a person is their creditworthiness based on their credit history. The higher this number, the more financially trustworthy a person is considered to be. So, a CreditScore of 1 is the highest since we're rescaling all the values to the range of 0-1."
   ]
  },
  {
   "cell_type": "markdown",
   "metadata": {},
   "source": [
    "# Fitting a logistic regression model to the train set\n",
    "Essentially, predicting if a credit card application will be approved or not is a classification task. According to UCI, our dataset contains more instances that correspond to \"Denied\" status than instances corresponding to \"Approved\" status. Specifically, out of 690 instances, there are 383 (55.5%) applications that got denied and 307 (44.5%) applications that got approved.\n",
    "\n",
    "This gives us a benchmark. A good machine learning model should be able to accurately predict the status of the applications with respect to these statistics.\n",
    "\n",
    "Which model should we pick? Because of this correlation between the features, we'll take advantage of the fact that generalized linear models perform well in these cases. Let's start our machine learning modeling with a Logistic Regression model (a generalized linear model)."
   ]
  },
  {
   "cell_type": "code",
   "execution_count": 56,
   "metadata": {},
   "outputs": [],
   "source": [
    "feature_names = df.select('loan_number','amount_borrowed','installment','grade','listing_title','Loan_status','data_source')"
   ]
  },
  {
   "cell_type": "code",
   "execution_count": 57,
   "metadata": {},
   "outputs": [
    {
     "name": "stdout",
     "output_type": "stream",
     "text": [
      "+-----------+---------------+-----------+-----+------------------+-----------+------------+\n",
      "|loan_number|amount_borrowed|installment|grade|     listing_title|Loan_status| data_source|\n",
      "+-----------+---------------+-----------+-----+------------------+-----------+------------+\n",
      "|   10149342|        27050.0|     885.46|    B|debt_consolidation|          1|Lending Club|\n",
      "|   10149488|         4800.0|     157.13|    B|  home_improvement|          1|Lending Club|\n",
      "|   10148122|        12000.0|     373.94|    A|debt_consolidation|          1|Lending Club|\n",
      "|   10119623|        12000.0|     398.52|    B|debt_consolidation|          1|Lending Club|\n",
      "|   10159498|        12000.0|     368.45|    A|debt_consolidation|          1|Lending Club|\n",
      "|   10119590|        11500.0|     323.54|    E|debt_consolidation|          1|Lending Club|\n",
      "|   10159548|        15000.0|      476.3|    A|debt_consolidation|          1|Lending Club|\n",
      "|   10127816|        24000.0|      814.8|    B|       credit_card|          1|Lending Club|\n",
      "|   10139658|        12000.0|      407.4|    B|debt_consolidation|          1|Lending Club|\n",
      "|   10129477|        14000.0|     470.71|    B|debt_consolidation|          1|Lending Club|\n",
      "|   10129506|        20800.0|     706.16|    B|debt_consolidation|          1|Lending Club|\n",
      "|   10159611|        10000.0|     321.13|    B|debt_consolidation|          1|Lending Club|\n",
      "|   10224583|        11100.0|     384.68|    C|             other|          1|Lending Club|\n",
      "|   10129454|        12000.0|     392.81|    B|debt_consolidation|          1|Lending Club|\n",
      "|   10179520|         3000.0|     100.87|    B|debt_consolidation|          1|Lending Club|\n",
      "|   10129403|         7550.0|     266.34|    C|debt_consolidation|          1|Lending Club|\n",
      "|   10149577|        28000.0|     872.52|    A|debt_consolidation|          1|Lending Club|\n",
      "|   10149526|        27600.0|     730.78|    D|debt_consolidation|          0|Lending Club|\n",
      "|   10149566|         8000.0|     261.88|    B|debt_consolidation|          0|Lending Club|\n",
      "|   10148818|        15000.0|      516.1|    C|debt_consolidation|          1|Lending Club|\n",
      "+-----------+---------------+-----------+-----+------------------+-----------+------------+\n",
      "only showing top 20 rows\n",
      "\n"
     ]
    }
   ],
   "source": [
    "feature_names.show()"
   ]
  },
  {
   "cell_type": "code",
   "execution_count": 58,
   "metadata": {},
   "outputs": [
    {
     "name": "stdout",
     "output_type": "stream",
     "text": [
      "+-----------+---------------+-----------+-----+------------------+------------+-----------+--------------------+\n",
      "|loan_number|amount_borrowed|installment|grade|     listing_title| data_source|Loan_status|     scaled_features|\n",
      "+-----------+---------------+-----------+-----+------------------+------------+-----------+--------------------+\n",
      "|   10149342|        27050.0|     885.46|    B|debt_consolidation|Lending Club|          1|[0.72356614867946...|\n",
      "|   10149488|         4800.0|     157.13|    B|  home_improvement|Lending Club|          1|[0.72356614867946...|\n",
      "|   10148122|        12000.0|     373.94|    A|debt_consolidation|Lending Club|          1|[1.44713229735892...|\n",
      "|   10119623|        12000.0|     398.52|    B|debt_consolidation|Lending Club|          1|[0.72356614867946...|\n",
      "|   10159498|        12000.0|     368.45|    A|debt_consolidation|Lending Club|          1|[1.44713229735892...|\n",
      "|   10119590|        11500.0|     323.54|    E|debt_consolidation|Lending Club|          1|[2.89426459471785...|\n",
      "|   10159548|        15000.0|      476.3|    A|debt_consolidation|Lending Club|          1|[1.44713229735892...|\n",
      "|   10127816|        24000.0|      814.8|    B|       credit_card|Lending Club|          1|[0.72356614867946...|\n",
      "|   10139658|        12000.0|      407.4|    B|debt_consolidation|Lending Club|          1|[0.72356614867946...|\n",
      "|   10129477|        14000.0|     470.71|    B|debt_consolidation|Lending Club|          1|[0.72356614867946...|\n",
      "|   10129506|        20800.0|     706.16|    B|debt_consolidation|Lending Club|          1|[0.72356614867946...|\n",
      "|   10159611|        10000.0|     321.13|    B|debt_consolidation|Lending Club|          1|[0.72356614867946...|\n",
      "|   10224583|        11100.0|     384.68|    C|             other|Lending Club|          1|[0.0,1.6346590635...|\n",
      "|   10129454|        12000.0|     392.81|    B|debt_consolidation|Lending Club|          1|[0.72356614867946...|\n",
      "|   10179520|         3000.0|     100.87|    B|debt_consolidation|Lending Club|          1|[0.72356614867946...|\n",
      "|   10129403|         7550.0|     266.34|    C|debt_consolidation|Lending Club|          1|[0.0,0.0,0.0,0.24...|\n",
      "|   10149577|        28000.0|     872.52|    A|debt_consolidation|Lending Club|          1|[1.44713229735892...|\n",
      "|   10149526|        27600.0|     730.78|    D|debt_consolidation|Lending Club|          0|[2.17069844603838...|\n",
      "|   10149566|         8000.0|     261.88|    B|debt_consolidation|Lending Club|          0|[0.72356614867946...|\n",
      "|   10148818|        15000.0|      516.1|    C|debt_consolidation|Lending Club|          1|[0.0,0.0,0.0,0.24...|\n",
      "+-----------+---------------+-----------+-----+------------------+------------+-----------+--------------------+\n",
      "only showing top 20 rows\n",
      "\n"
     ]
    }
   ],
   "source": [
    "from pyspark.ml.feature import VectorAssembler, StringIndexer\n",
    "from pyspark.ml.feature import StandardScaler\n",
    "from pyspark.sql import SparkSession\n",
    "\n",
    "# Create or retrieve SparkSession\n",
    "\n",
    "# Selecting specific columns\n",
    "selected_columns = ['loan_number', 'amount_borrowed', 'installment', 'grade', 'listing_title', 'Loan_status', 'data_source']\n",
    "selected_df = df.select(selected_columns)\n",
    "\n",
    "# Define StringIndexers for string columns\n",
    "string_indexers = [StringIndexer(inputCol=col, outputCol=col+\"_index\") for col in ['grade', 'listing_title', 'data_source']]\n",
    "\n",
    "# Apply StringIndexers\n",
    "indexed_df = selected_df\n",
    "for indexer in string_indexers:\n",
    "    indexed_df = indexer.fit(indexed_df).transform(indexed_df)\n",
    "\n",
    "# Selecting indexed columns along with numeric columns\n",
    "numeric_columns = ['loan_number', 'amount_borrowed', 'installment', 'Loan_status']\n",
    "assembler_inputs = [col+\"_index\" for col in ['grade', 'listing_title', 'data_source']] + numeric_columns\n",
    "assembler = VectorAssembler(inputCols=assembler_inputs, outputCol=\"features\")\n",
    "assembled_df = assembler.transform(indexed_df)\n",
    "\n",
    "# Apply StandardScaler to the assembled features\n",
    "scaler = StandardScaler(inputCol=\"features\", outputCol=\"scaled_features\")\n",
    "scaler_model = scaler.fit(assembled_df)\n",
    "scaled_df = scaler_model.transform(assembled_df)\n",
    "\n",
    "# Select the scaled features and original columns\n",
    "result_df = scaled_df.select(\"loan_number\", \"amount_borrowed\", \"installment\", \"grade\", \"listing_title\", \"data_source\", \"Loan_status\", \"scaled_features\")\n",
    "\n",
    "# Show the resulting DataFrame\n",
    "result_df.show()\n"
   ]
  },
  {
   "cell_type": "markdown",
   "metadata": {},
   "source": [
    "## Model Training & Testing"
   ]
  },
  {
   "cell_type": "code",
   "execution_count": 59,
   "metadata": {},
   "outputs": [],
   "source": [
    "from pyspark.ml.classification import LogisticRegression, RandomForestClassifier\n",
    "from pyspark.ml.evaluation import BinaryClassificationEvaluator"
   ]
  },
  {
   "cell_type": "code",
   "execution_count": 60,
   "metadata": {},
   "outputs": [
    {
     "name": "stdout",
     "output_type": "stream",
     "text": [
      "+-----------+---------------+-----------+-----+------------------+------------+-----------+--------------------+\n",
      "|loan_number|amount_borrowed|installment|grade|     listing_title| data_source|Loan_status|     scaled_features|\n",
      "+-----------+---------------+-----------+-----+------------------+------------+-----------+--------------------+\n",
      "|   10149342|        27050.0|     885.46|    B|debt_consolidation|Lending Club|          1|[0.72356614867946...|\n",
      "|   10149488|         4800.0|     157.13|    B|  home_improvement|Lending Club|          1|[0.72356614867946...|\n",
      "|   10148122|        12000.0|     373.94|    A|debt_consolidation|Lending Club|          1|[1.44713229735892...|\n",
      "|   10119623|        12000.0|     398.52|    B|debt_consolidation|Lending Club|          1|[0.72356614867946...|\n",
      "|   10159498|        12000.0|     368.45|    A|debt_consolidation|Lending Club|          1|[1.44713229735892...|\n",
      "|   10119590|        11500.0|     323.54|    E|debt_consolidation|Lending Club|          1|[2.89426459471785...|\n",
      "|   10159548|        15000.0|      476.3|    A|debt_consolidation|Lending Club|          1|[1.44713229735892...|\n",
      "|   10127816|        24000.0|      814.8|    B|       credit_card|Lending Club|          1|[0.72356614867946...|\n",
      "|   10139658|        12000.0|      407.4|    B|debt_consolidation|Lending Club|          1|[0.72356614867946...|\n",
      "|   10129477|        14000.0|     470.71|    B|debt_consolidation|Lending Club|          1|[0.72356614867946...|\n",
      "|   10129506|        20800.0|     706.16|    B|debt_consolidation|Lending Club|          1|[0.72356614867946...|\n",
      "|   10159611|        10000.0|     321.13|    B|debt_consolidation|Lending Club|          1|[0.72356614867946...|\n",
      "|   10224583|        11100.0|     384.68|    C|             other|Lending Club|          1|[0.0,1.6346590635...|\n",
      "|   10129454|        12000.0|     392.81|    B|debt_consolidation|Lending Club|          1|[0.72356614867946...|\n",
      "|   10179520|         3000.0|     100.87|    B|debt_consolidation|Lending Club|          1|[0.72356614867946...|\n",
      "|   10129403|         7550.0|     266.34|    C|debt_consolidation|Lending Club|          1|[0.0,0.0,0.0,0.24...|\n",
      "|   10149577|        28000.0|     872.52|    A|debt_consolidation|Lending Club|          1|[1.44713229735892...|\n",
      "|   10149526|        27600.0|     730.78|    D|debt_consolidation|Lending Club|          0|[2.17069844603838...|\n",
      "|   10149566|         8000.0|     261.88|    B|debt_consolidation|Lending Club|          0|[0.72356614867946...|\n",
      "|   10148818|        15000.0|      516.1|    C|debt_consolidation|Lending Club|          1|[0.0,0.0,0.0,0.24...|\n",
      "+-----------+---------------+-----------+-----+------------------+------------+-----------+--------------------+\n",
      "only showing top 20 rows\n",
      "\n"
     ]
    }
   ],
   "source": [
    "from pyspark.ml.feature import VectorAssembler, StringIndexer, StandardScaler\n",
    "from pyspark.ml.classification import LogisticRegression\n",
    "from pyspark.sql import SparkSession\n",
    "\n",
    "\n",
    "# Selecting specific columns\n",
    "selected_columns = ['loan_number', 'amount_borrowed', 'installment', 'grade', 'listing_title', 'Loan_status', 'data_source']\n",
    "selected_df = df.select(selected_columns)\n",
    "\n",
    "# Define StringIndexers for string columns\n",
    "string_indexers = [StringIndexer(inputCol=col, outputCol=col+\"_index\") for col in ['grade', 'listing_title', 'data_source']]\n",
    "\n",
    "# Apply StringIndexers\n",
    "indexed_df = selected_df\n",
    "for indexer in string_indexers:\n",
    "    indexed_df = indexer.fit(indexed_df).transform(indexed_df)\n",
    "\n",
    "# Selecting indexed columns along with numeric columns\n",
    "numeric_columns = ['loan_number', 'amount_borrowed', 'installment', 'Loan_status']\n",
    "assembler_inputs = [col+\"_index\" for col in ['grade', 'listing_title', 'data_source']] + numeric_columns\n",
    "assembler = VectorAssembler(inputCols=assembler_inputs, outputCol=\"features\")\n",
    "assembled_df = assembler.transform(indexed_df)\n",
    "\n",
    "# Apply StandardScaler to the assembled features\n",
    "scaler = StandardScaler(inputCol=\"features\", outputCol=\"scaled_features\")\n",
    "scaler_model = scaler.fit(assembled_df)\n",
    "scaled_df = scaler_model.transform(assembled_df)\n",
    "\n",
    "# Select the scaled features and original columns\n",
    "result_df = scaled_df.select(\"loan_number\", \"amount_borrowed\", \"installment\", \"grade\", \"listing_title\", \"data_source\", \"Loan_status\", \"scaled_features\")\n",
    "\n",
    "# Show the resulting DataFrame\n",
    "result_df.show()\n",
    "\n",
    "# Creating logistic regression model\n",
    "lr = LogisticRegression(featuresCol='scaled_features', labelCol='Loan_status')\n",
    "lr_model = lr.fit(result_df)\n"
   ]
  },
  {
   "cell_type": "code",
   "execution_count": 61,
   "metadata": {},
   "outputs": [],
   "source": [
    "from pyspark.ml.classification import LogisticRegression, RandomForestClassifier\n",
    "from pyspark.ml.evaluation import BinaryClassificationEvaluator\n",
    "\n",
    "# creating model logistic regression\n",
    "lr = LogisticRegression(featuresCol='feature', labelCol='Loan_Status')\n",
    "lr_model = lr.fit(train_data)"
   ]
  },
  {
   "cell_type": "code",
   "execution_count": 62,
   "metadata": {},
   "outputs": [
    {
     "name": "stdout",
     "output_type": "stream",
     "text": [
      "+-----------+---------------+----+-------------+-----------+-----+-------------------+------------------+-----------------+--------------+-------------+--------------+---------------------------+-------------------+---------------------+-------------+-----------+------------+-----------+-------------------+-----------------+-----------------+-------------------+---------------------------+-------------------------+-------------------------+--------------------+--------------------+--------------------+----------+\n",
      "|loan_number|amount_borrowed|term|borrower_rate|installment|grade|   origination_date|     listing_title|principal_balance|principal_paid|interest_paid|late_fees_paid|debt_sale_proceeds_received|  last_payment_date|next_payment_due_date|days_past_due|Loan_Status| data_source|grade_index|listing_title_index|Loan_Status_index|data_source_index|grade_index_encoded|listing_title_index_encoded|Loan_Status_index_encoded|data_source_index_encoded|             feature|       rawPrediction|         probability|prediction|\n",
      "+-----------+---------------+----+-------------+-----------+-----+-------------------+------------------+-----------------+--------------+-------------+--------------+---------------------------+-------------------+---------------------+-------------+-----------+------------+-----------+-------------------+-----------------+-----------------+-------------------+---------------------------+-------------------------+-------------------------+--------------------+--------------------+--------------------+----------+\n",
      "|     300390|        12000.0|  36|       0.0649|     367.74|    A|2014-12-01 00:00:00|debt_consolidation|              0.0|       12000.0|      1232.26|           0.0|                        0.0|2017-12-01 00:00:00|  2018-01-01 00:00:00|            0|          1|Lending Club|        2.0|                0.0|              1.0|              0.0|      (7,[2],[1.0])|             (14,[0],[1.0])|            (2,[1],[1.0])|            (2,[0],[1.0])|(29,[2,7,22,23,25...|[-19.249884984312...|[4.36396412937182...|       1.0|\n",
      "|     377140|        27675.0|  36|       0.0649|     848.09|    A|2014-12-01 00:00:00|debt_consolidation|              0.0|       27675.0|      2729.99|           0.0|                        0.0|2017-10-01 00:00:00|  2017-11-01 00:00:00|            0|          1|Lending Club|        2.0|                0.0|              1.0|              0.0|      (7,[2],[1.0])|             (14,[0],[1.0])|            (2,[1],[1.0])|            (2,[0],[1.0])|(29,[2,7,22,23,25...|[-19.179947669563...|[4.68009384792083...|       1.0|\n",
      "|     380041|        16000.0|  36|       0.1016|     517.48|    B|2013-01-01 00:00:00|debt_consolidation|              0.0|       16000.0|      1431.98|           0.0|                        0.0|2015-02-01 00:00:00|  2015-03-01 00:00:00|            0|          1|Lending Club|        1.0|                0.0|              1.0|              0.0|      (7,[1],[1.0])|             (14,[0],[1.0])|            (2,[1],[1.0])|            (2,[0],[1.0])|(29,[1,7,22,23,25...|[-19.209241518961...|[4.54498448253406...|       1.0|\n",
      "|     442319|        24000.0|  36|       0.0662|     736.89|    A|2013-05-01 00:00:00|       credit_card|              0.0|       24000.0|      2177.13|           0.0|                        0.0|2015-06-01 00:00:00|  2015-07-01 00:00:00|            0|          1|Lending Club|        2.0|                1.0|              1.0|              0.0|      (7,[2],[1.0])|             (14,[1],[1.0])|            (2,[1],[1.0])|            (2,[0],[1.0])|(29,[2,8,22,23,25...|[-19.174985084932...|[4.70337693397129...|       1.0|\n",
      "|     475622|         3600.0|  36|       0.0603|     109.57|    A|2012-08-01 00:00:00|  home_improvement|              0.0|        3600.0|       344.77| 15.0000000035|                        0.0|2015-09-01 00:00:00|  2015-10-01 00:00:00|            0|          1|Lending Club|        2.0|                2.0|              1.0|              0.0|      (7,[2],[1.0])|             (14,[2],[1.0])|            (2,[1],[1.0])|            (2,[0],[1.0])|(29,[2,9,22,23,25...|[-19.209884133185...|[4.54206474910254...|       1.0|\n",
      "+-----------+---------------+----+-------------+-----------+-----+-------------------+------------------+-----------------+--------------+-------------+--------------+---------------------------+-------------------+---------------------+-------------+-----------+------------+-----------+-------------------+-----------------+-----------------+-------------------+---------------------------+-------------------------+-------------------------+--------------------+--------------------+--------------------+----------+\n",
      "only showing top 5 rows\n",
      "\n"
     ]
    }
   ],
   "source": [
    "import numpy as np\n",
    "import matplotlib.pyplot as plt\n",
    "import pandas as pd\n",
    "from sklearn.metrics import roc_curve, auc\n",
    "from pyspark.ml.classification import LogisticRegression\n",
    "from pyspark.ml.evaluation import BinaryClassificationEvaluator\n",
    "from sklearn import metrics\n",
    "# predict on test data\n",
    "predictions = lr_model.transform(test_data)\n",
    "predictions.show(5)"
   ]
  },
  {
   "cell_type": "code",
   "execution_count": 63,
   "metadata": {},
   "outputs": [
    {
     "name": "stdout",
     "output_type": "stream",
     "text": [
      "Area Under the Curve (AUC) from kurva ROC (AUC): 0.9999998957303451\n"
     ]
    }
   ],
   "source": [
    "from sklearn.metrics import roc_curve, auc\n",
    "auc = BinaryClassificationEvaluator().setLabelCol('Loan_Status')\n",
    "print('Area Under the Curve (AUC) from kurva ROC (AUC):', str(auc.evaluate(predictions)))"
   ]
  },
  {
   "cell_type": "markdown",
   "metadata": {},
   "source": [
    "# Random Forest"
   ]
  },
  {
   "cell_type": "code",
   "execution_count": 64,
   "metadata": {},
   "outputs": [
    {
     "name": "stdout",
     "output_type": "stream",
     "text": [
      "+-----------+---------------+----+-------------+-----------+-----+-------------------+------------------+-----------------+--------------+-------------+--------------+---------------------------+-------------------+---------------------+-------------+-----------+------------+-----------+-------------------+-----------------+-----------------+-------------------+---------------------------+-------------------------+-------------------------+--------------------+--------------------+--------------------+----------+\n",
      "|loan_number|amount_borrowed|term|borrower_rate|installment|grade|   origination_date|     listing_title|principal_balance|principal_paid|interest_paid|late_fees_paid|debt_sale_proceeds_received|  last_payment_date|next_payment_due_date|days_past_due|Loan_Status| data_source|grade_index|listing_title_index|Loan_Status_index|data_source_index|grade_index_encoded|listing_title_index_encoded|Loan_Status_index_encoded|data_source_index_encoded|             feature|       rawPrediction|         probability|prediction|\n",
      "+-----------+---------------+----+-------------+-----------+-----+-------------------+------------------+-----------------+--------------+-------------+--------------+---------------------------+-------------------+---------------------+-------------+-----------+------------+-----------+-------------------+-----------------+-----------------+-------------------+---------------------------+-------------------------+-------------------------+--------------------+--------------------+--------------------+----------+\n",
      "|     300390|        12000.0|  36|       0.0649|     367.74|    A|2014-12-01 00:00:00|debt_consolidation|              0.0|       12000.0|      1232.26|           0.0|                        0.0|2017-12-01 00:00:00|  2018-01-01 00:00:00|            0|          1|Lending Club|        2.0|                0.0|              1.0|              0.0|      (7,[2],[1.0])|             (14,[0],[1.0])|            (2,[1],[1.0])|            (2,[0],[1.0])|(29,[2,7,22,23,25...|[0.57805406401954...|[0.02890270320097...|       1.0|\n",
      "|     377140|        27675.0|  36|       0.0649|     848.09|    A|2014-12-01 00:00:00|debt_consolidation|              0.0|       27675.0|      2729.99|           0.0|                        0.0|2017-10-01 00:00:00|  2017-11-01 00:00:00|            0|          1|Lending Club|        2.0|                0.0|              1.0|              0.0|      (7,[2],[1.0])|             (14,[0],[1.0])|            (2,[1],[1.0])|            (2,[0],[1.0])|(29,[2,7,22,23,25...|[0.57805406401954...|[0.02890270320097...|       1.0|\n",
      "|     380041|        16000.0|  36|       0.1016|     517.48|    B|2013-01-01 00:00:00|debt_consolidation|              0.0|       16000.0|      1431.98|           0.0|                        0.0|2015-02-01 00:00:00|  2015-03-01 00:00:00|            0|          1|Lending Club|        1.0|                0.0|              1.0|              0.0|      (7,[1],[1.0])|             (14,[0],[1.0])|            (2,[1],[1.0])|            (2,[0],[1.0])|(29,[1,7,22,23,25...|          [0.0,20.0]|           [0.0,1.0]|       1.0|\n",
      "|     442319|        24000.0|  36|       0.0662|     736.89|    A|2013-05-01 00:00:00|       credit_card|              0.0|       24000.0|      2177.13|           0.0|                        0.0|2015-06-01 00:00:00|  2015-07-01 00:00:00|            0|          1|Lending Club|        2.0|                1.0|              1.0|              0.0|      (7,[2],[1.0])|             (14,[1],[1.0])|            (2,[1],[1.0])|            (2,[0],[1.0])|(29,[2,8,22,23,25...|[0.57805406401954...|[0.02890270320097...|       1.0|\n",
      "|     475622|         3600.0|  36|       0.0603|     109.57|    A|2012-08-01 00:00:00|  home_improvement|              0.0|        3600.0|       344.77| 15.0000000035|                        0.0|2015-09-01 00:00:00|  2015-10-01 00:00:00|            0|          1|Lending Club|        2.0|                2.0|              1.0|              0.0|      (7,[2],[1.0])|             (14,[2],[1.0])|            (2,[1],[1.0])|            (2,[0],[1.0])|(29,[2,9,22,23,25...|[0.57805406401954...|[0.02890270320097...|       1.0|\n",
      "+-----------+---------------+----+-------------+-----------+-----+-------------------+------------------+-----------------+--------------+-------------+--------------+---------------------------+-------------------+---------------------+-------------+-----------+------------+-----------+-------------------+-----------------+-----------------+-------------------+---------------------------+-------------------------+-------------------------+--------------------+--------------------+--------------------+----------+\n",
      "only showing top 5 rows\n",
      "\n",
      "Area Under the Curve (AUC): 1.0\n"
     ]
    }
   ],
   "source": [
    "import numpy as np\n",
    "import seaborn as sns\n",
    "from sklearn.metrics import confusion_matrix\n",
    "import matplotlib.pyplot as plt\n",
    "import pandas as pd\n",
    "from sklearn.metrics import roc_curve, auc\n",
    "from pyspark.ml.classification import RandomForestClassifier\n",
    "from pyspark.ml.evaluation import BinaryClassificationEvaluator\n",
    "from sklearn.metrics import roc_curve, auc\n",
    "\n",
    "\n",
    "rf = RandomForestClassifier(featuresCol='feature', labelCol='Loan_Status')\n",
    "rf_model = rf.fit(train_data)\n",
    "\n",
    "\n",
    "# Make predictions on the test data\n",
    "predictions = rf_model.transform(test_data)\n",
    "\n",
    "# Display the first 5 rows of predictions\n",
    "predictions.show(5)\n",
    "\n",
    "# Evaluate the model and print the AUC value\n",
    "auc_evaluator = BinaryClassificationEvaluator().setLabelCol('Loan_Status')\n",
    "auc_value = auc_evaluator.evaluate(predictions)\n",
    "print('Area Under the Curve (AUC):', auc_value)"
   ]
  },
  {
   "cell_type": "code",
   "execution_count": 65,
   "metadata": {},
   "outputs": [],
   "source": [
    "# Convert Spark DataFrame to Pandas DataFrame\n",
    "predictions_pd = predictions.select('Loan_Status', 'prediction').toPandas()"
   ]
  },
  {
   "cell_type": "code",
   "execution_count": 66,
   "metadata": {},
   "outputs": [],
   "source": [
    "# Extract labels and predictions from Pandas DataFrame\n",
    "labels = predictions_pd['Loan_Status']\n",
    "predictions = predictions_pd['prediction']"
   ]
  },
  {
   "cell_type": "code",
   "execution_count": 67,
   "metadata": {},
   "outputs": [
    {
     "data": {
      "text/plain": [
       "Loan_Status  prediction\n",
       "0            0.0           243066\n",
       "1            1.0           159404\n",
       "dtype: int64"
      ]
     },
     "execution_count": 67,
     "metadata": {},
     "output_type": "execute_result"
    }
   ],
   "source": [
    "predictions_pd.value_counts()"
   ]
  },
  {
   "cell_type": "code",
   "execution_count": 68,
   "metadata": {},
   "outputs": [
    {
     "data": {
      "text/html": [
       "<div>\n",
       "<style scoped>\n",
       "    .dataframe tbody tr th:only-of-type {\n",
       "        vertical-align: middle;\n",
       "    }\n",
       "\n",
       "    .dataframe tbody tr th {\n",
       "        vertical-align: top;\n",
       "    }\n",
       "\n",
       "    .dataframe thead th {\n",
       "        text-align: right;\n",
       "    }\n",
       "</style>\n",
       "<table border=\"1\" class=\"dataframe\">\n",
       "  <thead>\n",
       "    <tr style=\"text-align: right;\">\n",
       "      <th></th>\n",
       "      <th>Loan_Status</th>\n",
       "      <th>prediction</th>\n",
       "    </tr>\n",
       "  </thead>\n",
       "  <tbody>\n",
       "    <tr>\n",
       "      <th>0</th>\n",
       "      <td>1</td>\n",
       "      <td>1.0</td>\n",
       "    </tr>\n",
       "    <tr>\n",
       "      <th>1</th>\n",
       "      <td>1</td>\n",
       "      <td>1.0</td>\n",
       "    </tr>\n",
       "    <tr>\n",
       "      <th>2</th>\n",
       "      <td>1</td>\n",
       "      <td>1.0</td>\n",
       "    </tr>\n",
       "    <tr>\n",
       "      <th>3</th>\n",
       "      <td>1</td>\n",
       "      <td>1.0</td>\n",
       "    </tr>\n",
       "    <tr>\n",
       "      <th>4</th>\n",
       "      <td>1</td>\n",
       "      <td>1.0</td>\n",
       "    </tr>\n",
       "    <tr>\n",
       "      <th>...</th>\n",
       "      <td>...</td>\n",
       "      <td>...</td>\n",
       "    </tr>\n",
       "    <tr>\n",
       "      <th>402465</th>\n",
       "      <td>0</td>\n",
       "      <td>0.0</td>\n",
       "    </tr>\n",
       "    <tr>\n",
       "      <th>402466</th>\n",
       "      <td>0</td>\n",
       "      <td>0.0</td>\n",
       "    </tr>\n",
       "    <tr>\n",
       "      <th>402467</th>\n",
       "      <td>0</td>\n",
       "      <td>0.0</td>\n",
       "    </tr>\n",
       "    <tr>\n",
       "      <th>402468</th>\n",
       "      <td>0</td>\n",
       "      <td>0.0</td>\n",
       "    </tr>\n",
       "    <tr>\n",
       "      <th>402469</th>\n",
       "      <td>0</td>\n",
       "      <td>0.0</td>\n",
       "    </tr>\n",
       "  </tbody>\n",
       "</table>\n",
       "<p>402470 rows × 2 columns</p>\n",
       "</div>"
      ],
      "text/plain": [
       "        Loan_Status  prediction\n",
       "0                 1         1.0\n",
       "1                 1         1.0\n",
       "2                 1         1.0\n",
       "3                 1         1.0\n",
       "4                 1         1.0\n",
       "...             ...         ...\n",
       "402465            0         0.0\n",
       "402466            0         0.0\n",
       "402467            0         0.0\n",
       "402468            0         0.0\n",
       "402469            0         0.0\n",
       "\n",
       "[402470 rows x 2 columns]"
      ]
     },
     "execution_count": 68,
     "metadata": {},
     "output_type": "execute_result"
    }
   ],
   "source": [
    "predictions_pd"
   ]
  },
  {
   "cell_type": "code",
   "execution_count": 69,
   "metadata": {},
   "outputs": [
    {
     "data": {
      "image/png": "[encoded data removed]",
      "text/plain": [
       "<Figure size 800x600 with 2 Axes>"
      ]
     },
     "metadata": {},
     "output_type": "display_data"
    }
   ],
   "source": [
    "# Calculate confusion matrix\n",
    "conf_matrix = confusion_matrix(labels, predictions)\n",
    "\n",
    "\n",
    "\n",
    "# Create a heatmap using seaborn\n",
    "plt.figure(figsize=(8, 6))\n",
    "sns.heatmap(conf_matrix, annot=True, fmt='d', cmap='Blues', xticklabels=['Predicted 0', 'Predicted 1'], yticklabels=['Actual 0', 'Actual 1'])\n",
    "plt.xlabel('Predicted')\n",
    "plt.ylabel('Actual')\n",
    "plt.title('Confusion Matrix Heatmap')\n",
    "plt.show()"
   ]
  },
  {
   "cell_type": "code",
   "execution_count": null,
   "metadata": {},
   "outputs": [],
   "source": []
  }
 ],
 "metadata": {
  "kernelspec": {
   "display_name": "Python 3 (ipykernel)",
   "language": "python",
   "name": "python3"
  },
  "language_info": {
   "codemirror_mode": {
    "name": "ipython",
    "version": 3
   },
   "file_extension": ".py",
   "mimetype": "text/x-python",
   "name": "python",
   "nbconvert_exporter": "python",
   "pygments_lexer": "ipython3",
   "version": "3.9.18"
  }
 },
 "nbformat": 4,
 "nbformat_minor": 4
}
